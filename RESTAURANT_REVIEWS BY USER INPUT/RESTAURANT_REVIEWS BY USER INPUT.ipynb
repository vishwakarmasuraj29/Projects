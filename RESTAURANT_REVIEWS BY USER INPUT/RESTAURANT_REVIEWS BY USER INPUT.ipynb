{
 "cells": [
  {
   "cell_type": "markdown",
   "id": "6509438d",
   "metadata": {},
   "source": [
    "# Step 1:- Read_Dataset"
   ]
  },
  {
   "cell_type": "code",
   "execution_count": 1,
   "id": "2b260a08",
   "metadata": {},
   "outputs": [],
   "source": [
    "from warnings import filterwarnings\n",
    "filterwarnings(\"ignore\")"
   ]
  },
  {
   "cell_type": "code",
   "execution_count": 2,
   "id": "f79b3768",
   "metadata": {},
   "outputs": [],
   "source": [
    "import pandas as pd\n",
    "A=pd.read_csv(\"C:/Users/LENOVO/Desktop/ML/Restaurant_Reviews.tsv\",sep=\"\\t\")"
   ]
  },
  {
   "cell_type": "code",
   "execution_count": 3,
   "id": "f755f079",
   "metadata": {},
   "outputs": [
    {
     "data": {
      "text/html": [
       "<div>\n",
       "<style scoped>\n",
       "    .dataframe tbody tr th:only-of-type {\n",
       "        vertical-align: middle;\n",
       "    }\n",
       "\n",
       "    .dataframe tbody tr th {\n",
       "        vertical-align: top;\n",
       "    }\n",
       "\n",
       "    .dataframe thead th {\n",
       "        text-align: right;\n",
       "    }\n",
       "</style>\n",
       "<table border=\"1\" class=\"dataframe\">\n",
       "  <thead>\n",
       "    <tr style=\"text-align: right;\">\n",
       "      <th></th>\n",
       "      <th>Review</th>\n",
       "      <th>Liked</th>\n",
       "    </tr>\n",
       "  </thead>\n",
       "  <tbody>\n",
       "    <tr>\n",
       "      <th>0</th>\n",
       "      <td>Wow... Loved this place.</td>\n",
       "      <td>1</td>\n",
       "    </tr>\n",
       "    <tr>\n",
       "      <th>1</th>\n",
       "      <td>Crust is not good.</td>\n",
       "      <td>0</td>\n",
       "    </tr>\n",
       "  </tbody>\n",
       "</table>\n",
       "</div>"
      ],
      "text/plain": [
       "                     Review  Liked\n",
       "0  Wow... Loved this place.      1\n",
       "1        Crust is not good.      0"
      ]
     },
     "execution_count": 3,
     "metadata": {},
     "output_type": "execute_result"
    }
   ],
   "source": [
    "A.head(2)"
   ]
  },
  {
   "cell_type": "markdown",
   "id": "cddfd765",
   "metadata": {},
   "source": [
    "# Step 2:- Missing Data"
   ]
  },
  {
   "cell_type": "code",
   "execution_count": 4,
   "id": "a4671ebe",
   "metadata": {},
   "outputs": [
    {
     "data": {
      "text/plain": [
       "Review    0\n",
       "Liked     0\n",
       "dtype: int64"
      ]
     },
     "execution_count": 4,
     "metadata": {},
     "output_type": "execute_result"
    }
   ],
   "source": [
    "A.isna().sum()"
   ]
  },
  {
   "cell_type": "markdown",
   "id": "64368216",
   "metadata": {},
   "source": [
    "# Step 3:- Preprocessing"
   ]
  },
  {
   "cell_type": "code",
   "execution_count": 5,
   "id": "024daabb",
   "metadata": {},
   "outputs": [],
   "source": [
    "def prep_txt(w):\n",
    "    import re\n",
    "    q = re.sub(\"[^a-zA-Z0-9 ]\",\"\",w)\n",
    "    q=q.lower()\n",
    "    q=q.split(\" \")\n",
    "    \n",
    "    from nltk.corpus import stopwords\n",
    "    sw=stopwords.words(\"english\")\n",
    "    \n",
    "    from nltk.stem import PorterStemmer,WordNetLemmatizer\n",
    "    ps = PorterStemmer()\n",
    "    wnl = WordNetLemmatizer()\n",
    "    r= \"\"\n",
    "    \n",
    "    for i in q:\n",
    "        if(i not in sw):\n",
    "            t = wnl.lemmatize(i)\n",
    "            t = ps.stem(t)\n",
    "            r= r +\" \"+ t\n",
    "    return r"
   ]
  },
  {
   "cell_type": "code",
   "execution_count": 6,
   "id": "48a81ece",
   "metadata": {},
   "outputs": [
    {
     "data": {
      "text/plain": [
       "' naman  good runner'"
      ]
     },
     "execution_count": 6,
     "metadata": {},
     "output_type": "execute_result"
    }
   ],
   "source": [
    "prep_txt(\"Naman is @#%^$ a good runner!\")"
   ]
  },
  {
   "cell_type": "code",
   "execution_count": 7,
   "id": "c471c009",
   "metadata": {},
   "outputs": [],
   "source": [
    "Q=[]\n",
    "for i in A.Review:\n",
    "    Q.append(prep_txt(i))"
   ]
  },
  {
   "cell_type": "code",
   "execution_count": 8,
   "id": "e6f048d1",
   "metadata": {},
   "outputs": [],
   "source": [
    "from sklearn.feature_extraction.text import CountVectorizer\n",
    "cv=CountVectorizer()\n",
    "X=cv.fit_transform(Q).toarray()\n",
    "Y=A.Liked"
   ]
  },
  {
   "cell_type": "markdown",
   "id": "0c5ded48",
   "metadata": {},
   "source": [
    "# Step 4:- Training and Testing"
   ]
  },
  {
   "cell_type": "code",
   "execution_count": 9,
   "id": "769eace3",
   "metadata": {},
   "outputs": [],
   "source": [
    "from sklearn.model_selection import train_test_split\n",
    "xtrain,xtest,ytrain,ytest=train_test_split(X,Y,test_size=0.2,random_state=21)"
   ]
  },
  {
   "cell_type": "markdown",
   "id": "64b2a1af",
   "metadata": {},
   "source": [
    "# Step 5:- Model NB(Naive_Bayes)"
   ]
  },
  {
   "cell_type": "code",
   "execution_count": 10,
   "id": "ced51c5c",
   "metadata": {},
   "outputs": [],
   "source": [
    "from sklearn.naive_bayes import GaussianNB\n",
    "nb = GaussianNB()\n",
    "model = nb.fit(xtrain,ytrain)\n",
    "pred_tr = model.predict(xtrain)\n",
    "pred_ts = model.predict(xtest)\n",
    "\n",
    "from sklearn.metrics import accuracy_score\n",
    "tr_acc = accuracy_score(ytrain,pred_tr)\n",
    "ts_acc = accuracy_score(ytest,pred_ts)"
   ]
  },
  {
   "cell_type": "code",
   "execution_count": 11,
   "id": "074b37e0",
   "metadata": {},
   "outputs": [
    {
     "data": {
      "text/plain": [
       "0.94"
      ]
     },
     "execution_count": 11,
     "metadata": {},
     "output_type": "execute_result"
    }
   ],
   "source": [
    "tr_acc"
   ]
  },
  {
   "cell_type": "code",
   "execution_count": 12,
   "id": "99b2fbf7",
   "metadata": {},
   "outputs": [
    {
     "data": {
      "text/plain": [
       "0.71"
      ]
     },
     "execution_count": 12,
     "metadata": {},
     "output_type": "execute_result"
    }
   ],
   "source": [
    "ts_acc"
   ]
  },
  {
   "cell_type": "markdown",
   "id": "b0749bff",
   "metadata": {},
   "source": [
    "# Step 6:- Create NN(Neural Network)"
   ]
  },
  {
   "cell_type": "code",
   "execution_count": 13,
   "id": "c0e052c8",
   "metadata": {},
   "outputs": [],
   "source": [
    "from keras.models import Sequential\n",
    "from keras.layers import Dense,Dropout\n",
    "\n",
    "nn = Sequential()\n",
    "nn.add(Dense(500,input_dim=X.shape[1]))\n",
    "nn.add(Dense(400))\n",
    "nn.add(Dropout(0.2))\n",
    "nn.add(Dense(400))\n",
    "nn.add(Dropout(0.2))\n",
    "nn.add(Dense(1,activation=\"sigmoid\"))"
   ]
  },
  {
   "cell_type": "code",
   "execution_count": 14,
   "id": "712ea5c1",
   "metadata": {},
   "outputs": [],
   "source": [
    "nn.compile(loss = \"binary_crossentropy\",metrics=\"accuracy\")"
   ]
  },
  {
   "cell_type": "code",
   "execution_count": 15,
   "id": "fc00eaa8",
   "metadata": {},
   "outputs": [
    {
     "name": "stdout",
     "output_type": "stream",
     "text": [
      "Epoch 1/30\n",
      "32/32 [==============================] - 0s 9ms/step - loss: 0.5511 - accuracy: 0.7110\n",
      "Epoch 2/30\n",
      "32/32 [==============================] - 0s 9ms/step - loss: 0.2180 - accuracy: 0.9030\n",
      "Epoch 3/30\n",
      "32/32 [==============================] - 0s 9ms/step - loss: 0.1106 - accuracy: 0.9570\n",
      "Epoch 4/30\n",
      "32/32 [==============================] - 0s 10ms/step - loss: 0.0794 - accuracy: 0.9710\n",
      "Epoch 5/30\n",
      "32/32 [==============================] - 0s 11ms/step - loss: 0.0578 - accuracy: 0.9800\n",
      "Epoch 6/30\n",
      "32/32 [==============================] - 0s 13ms/step - loss: 0.0424 - accuracy: 0.9840\n",
      "Epoch 7/30\n",
      "32/32 [==============================] - 0s 14ms/step - loss: 0.0323 - accuracy: 0.9880\n",
      "Epoch 8/30\n",
      "32/32 [==============================] - 0s 13ms/step - loss: 0.0315 - accuracy: 0.9860\n",
      "Epoch 9/30\n",
      "32/32 [==============================] - 0s 12ms/step - loss: 0.0213 - accuracy: 0.9910\n",
      "Epoch 10/30\n",
      "32/32 [==============================] - 0s 12ms/step - loss: 0.0335 - accuracy: 0.9910\n",
      "Epoch 11/30\n",
      "32/32 [==============================] - 0s 11ms/step - loss: 0.0255 - accuracy: 0.9910\n",
      "Epoch 12/30\n",
      "32/32 [==============================] - 0s 13ms/step - loss: 0.0238 - accuracy: 0.9920\n",
      "Epoch 13/30\n",
      "32/32 [==============================] - 0s 13ms/step - loss: 0.0229 - accuracy: 0.9940\n",
      "Epoch 14/30\n",
      "32/32 [==============================] - 0s 10ms/step - loss: 0.0206 - accuracy: 0.9930\n",
      "Epoch 15/30\n",
      "32/32 [==============================] - 0s 11ms/step - loss: 0.0208 - accuracy: 0.9920\n",
      "Epoch 16/30\n",
      "32/32 [==============================] - 0s 12ms/step - loss: 0.0195 - accuracy: 0.9930\n",
      "Epoch 17/30\n",
      "32/32 [==============================] - 0s 12ms/step - loss: 0.0204 - accuracy: 0.9960\n",
      "Epoch 18/30\n",
      "32/32 [==============================] - 0s 12ms/step - loss: 0.0210 - accuracy: 0.9950\n",
      "Epoch 19/30\n",
      "32/32 [==============================] - 0s 11ms/step - loss: 0.0186 - accuracy: 0.9920\n",
      "Epoch 20/30\n",
      "32/32 [==============================] - 0s 11ms/step - loss: 0.0161 - accuracy: 0.9930\n",
      "Epoch 21/30\n",
      "32/32 [==============================] - 0s 12ms/step - loss: 0.0171 - accuracy: 0.9940\n",
      "Epoch 22/30\n",
      "32/32 [==============================] - 0s 12ms/step - loss: 0.0146 - accuracy: 0.9930\n",
      "Epoch 23/30\n",
      "32/32 [==============================] - 0s 13ms/step - loss: 0.0168 - accuracy: 0.9950\n",
      "Epoch 24/30\n",
      "32/32 [==============================] - 0s 11ms/step - loss: 0.0166 - accuracy: 0.9940\n",
      "Epoch 25/30\n",
      "32/32 [==============================] - 0s 12ms/step - loss: 0.0149 - accuracy: 0.9950\n",
      "Epoch 26/30\n",
      "32/32 [==============================] - 0s 11ms/step - loss: 0.0165 - accuracy: 0.9940\n",
      "Epoch 27/30\n",
      "32/32 [==============================] - 0s 10ms/step - loss: 0.0160 - accuracy: 0.9950\n",
      "Epoch 28/30\n",
      "32/32 [==============================] - 0s 11ms/step - loss: 0.0132 - accuracy: 0.9930\n",
      "Epoch 29/30\n",
      "32/32 [==============================] - 0s 10ms/step - loss: 0.0131 - accuracy: 0.9930\n",
      "Epoch 30/30\n",
      "32/32 [==============================] - 0s 11ms/step - loss: 0.0156 - accuracy: 0.9960\n"
     ]
    }
   ],
   "source": [
    "model=nn.fit(X,Y,epochs=30)"
   ]
  },
  {
   "cell_type": "markdown",
   "id": "649147f7",
   "metadata": {},
   "source": [
    "# STEP 7:- Review using user Input\n",
    "#nn.predict_classes(inp)"
   ]
  },
  {
   "cell_type": "code",
   "execution_count": 16,
   "id": "bc61760d",
   "metadata": {},
   "outputs": [
    {
     "name": "stdout",
     "output_type": "stream",
     "text": [
      "Enter review : Yummy Food,Good Ambience\n",
      "Review: Liked\n"
     ]
    }
   ],
   "source": [
    "Q=input(\"Enter review : \")\n",
    "q1 = prep_txt(Q)\n",
    "inp = cv.transform([q1]).toarray()\n",
    "nn.predict(inp)\n",
    "x = nn.predict(inp)\n",
    "if (x>0.5):\n",
    "    print(\"Review: Liked\")\n",
    "else:\n",
    "    print(\"Review: Disliked\")"
   ]
  },
  {
   "cell_type": "markdown",
   "id": "c044cc24",
   "metadata": {},
   "source": [
    "# Conclusion:- \n",
    "Model for Restaurant Review based on user input has been created using Neural-Network(NN),Artificial Neural Network(ANN),Naive Bayes(NB).The Accuracy of model is 99.60 %"
   ]
  },
  {
   "cell_type": "markdown",
   "id": "b3652b6d",
   "metadata": {},
   "source": [
    "# ---------------------------------------------------------------------------------------------------------------"
   ]
  }
 ],
 "metadata": {
  "kernelspec": {
   "display_name": "Python 3 (ipykernel)",
   "language": "python",
   "name": "python3"
  },
  "language_info": {
   "codemirror_mode": {
    "name": "ipython",
    "version": 3
   },
   "file_extension": ".py",
   "mimetype": "text/x-python",
   "name": "python",
   "nbconvert_exporter": "python",
   "pygments_lexer": "ipython3",
   "version": "3.8.13"
  }
 },
 "nbformat": 4,
 "nbformat_minor": 5
}
