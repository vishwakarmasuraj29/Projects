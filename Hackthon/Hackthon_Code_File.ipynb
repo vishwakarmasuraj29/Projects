{
 "cells": [
  {
   "cell_type": "markdown",
   "id": "3d34fe5c",
   "metadata": {},
   "source": [
    "# Hackthon_Solution"
   ]
  },
  {
   "cell_type": "markdown",
   "id": "86faff5d",
   "metadata": {},
   "source": [
    "## Step 1 : Reading the Datasets"
   ]
  },
  {
   "cell_type": "code",
   "execution_count": 1,
   "id": "aa0747bd",
   "metadata": {},
   "outputs": [],
   "source": [
    "from warnings import filterwarnings\n",
    "filterwarnings(\"ignore\")"
   ]
  },
  {
   "cell_type": "code",
   "execution_count": 2,
   "id": "100d6970",
   "metadata": {},
   "outputs": [],
   "source": [
    "import pandas as pd"
   ]
  },
  {
   "cell_type": "code",
   "execution_count": 3,
   "id": "e1225f36",
   "metadata": {},
   "outputs": [],
   "source": [
    "train = pd.read_csv(\"train.csv\")\n",
    "test = pd.read_csv(\"test.csv\")"
   ]
  },
  {
   "cell_type": "markdown",
   "id": "2013b10c",
   "metadata": {},
   "source": [
    "## Step 2 : Missing Data Treatment"
   ]
  },
  {
   "cell_type": "code",
   "execution_count": 4,
   "id": "8c4ad4e1",
   "metadata": {},
   "outputs": [
    {
     "data": {
      "text/plain": [
       "id                0\n",
       "gender            0\n",
       "area              0\n",
       "qualification     0\n",
       "income            0\n",
       "marital_status    0\n",
       "vintage           0\n",
       "claim_amount      0\n",
       "num_policies      0\n",
       "policy            0\n",
       "type_of_policy    0\n",
       "cltv              0\n",
       "dtype: int64"
      ]
     },
     "execution_count": 4,
     "metadata": {},
     "output_type": "execute_result"
    }
   ],
   "source": [
    "train.isna().sum().head(20)"
   ]
  },
  {
   "cell_type": "code",
   "execution_count": 5,
   "id": "379e4fb7",
   "metadata": {},
   "outputs": [
    {
     "data": {
      "text/plain": [
       "id                0\n",
       "gender            0\n",
       "area              0\n",
       "qualification     0\n",
       "income            0\n",
       "marital_status    0\n",
       "vintage           0\n",
       "claim_amount      0\n",
       "num_policies      0\n",
       "policy            0\n",
       "type_of_policy    0\n",
       "dtype: int64"
      ]
     },
     "execution_count": 5,
     "metadata": {},
     "output_type": "execute_result"
    }
   ],
   "source": [
    "test.isna().sum().head(20)"
   ]
  },
  {
   "cell_type": "markdown",
   "id": "81402bb3",
   "metadata": {},
   "source": [
    "## Step 3 : Defining X and Y"
   ]
  },
  {
   "cell_type": "code",
   "execution_count": 6,
   "id": "882f41ac",
   "metadata": {},
   "outputs": [],
   "source": [
    "Y = train[[\"cltv\"]]\n",
    "X = train.drop(labels=[\"cltv\",\"id\"],axis=1)"
   ]
  },
  {
   "cell_type": "code",
   "execution_count": 7,
   "id": "c45d2189",
   "metadata": {},
   "outputs": [
    {
     "data": {
      "text/html": [
       "<div>\n",
       "<style scoped>\n",
       "    .dataframe tbody tr th:only-of-type {\n",
       "        vertical-align: middle;\n",
       "    }\n",
       "\n",
       "    .dataframe tbody tr th {\n",
       "        vertical-align: top;\n",
       "    }\n",
       "\n",
       "    .dataframe thead th {\n",
       "        text-align: right;\n",
       "    }\n",
       "</style>\n",
       "<table border=\"1\" class=\"dataframe\">\n",
       "  <thead>\n",
       "    <tr style=\"text-align: right;\">\n",
       "      <th></th>\n",
       "      <th>cltv</th>\n",
       "    </tr>\n",
       "  </thead>\n",
       "  <tbody>\n",
       "    <tr>\n",
       "      <th>0</th>\n",
       "      <td>64308</td>\n",
       "    </tr>\n",
       "    <tr>\n",
       "      <th>1</th>\n",
       "      <td>515400</td>\n",
       "    </tr>\n",
       "    <tr>\n",
       "      <th>2</th>\n",
       "      <td>64212</td>\n",
       "    </tr>\n",
       "    <tr>\n",
       "      <th>3</th>\n",
       "      <td>97920</td>\n",
       "    </tr>\n",
       "    <tr>\n",
       "      <th>4</th>\n",
       "      <td>59736</td>\n",
       "    </tr>\n",
       "  </tbody>\n",
       "</table>\n",
       "</div>"
      ],
      "text/plain": [
       "     cltv\n",
       "0   64308\n",
       "1  515400\n",
       "2   64212\n",
       "3   97920\n",
       "4   59736"
      ]
     },
     "execution_count": 7,
     "metadata": {},
     "output_type": "execute_result"
    }
   ],
   "source": [
    "Y.head()"
   ]
  },
  {
   "cell_type": "code",
   "execution_count": 8,
   "id": "4ce1bcf1",
   "metadata": {
    "scrolled": true
   },
   "outputs": [
    {
     "data": {
      "text/html": [
       "<div>\n",
       "<style scoped>\n",
       "    .dataframe tbody tr th:only-of-type {\n",
       "        vertical-align: middle;\n",
       "    }\n",
       "\n",
       "    .dataframe tbody tr th {\n",
       "        vertical-align: top;\n",
       "    }\n",
       "\n",
       "    .dataframe thead th {\n",
       "        text-align: right;\n",
       "    }\n",
       "</style>\n",
       "<table border=\"1\" class=\"dataframe\">\n",
       "  <thead>\n",
       "    <tr style=\"text-align: right;\">\n",
       "      <th></th>\n",
       "      <th>gender</th>\n",
       "      <th>area</th>\n",
       "      <th>qualification</th>\n",
       "      <th>income</th>\n",
       "      <th>marital_status</th>\n",
       "      <th>vintage</th>\n",
       "      <th>claim_amount</th>\n",
       "      <th>num_policies</th>\n",
       "      <th>policy</th>\n",
       "      <th>type_of_policy</th>\n",
       "    </tr>\n",
       "  </thead>\n",
       "  <tbody>\n",
       "    <tr>\n",
       "      <th>0</th>\n",
       "      <td>Male</td>\n",
       "      <td>Urban</td>\n",
       "      <td>Bachelor</td>\n",
       "      <td>5L-10L</td>\n",
       "      <td>1</td>\n",
       "      <td>5</td>\n",
       "      <td>5790</td>\n",
       "      <td>More than 1</td>\n",
       "      <td>A</td>\n",
       "      <td>Platinum</td>\n",
       "    </tr>\n",
       "    <tr>\n",
       "      <th>1</th>\n",
       "      <td>Male</td>\n",
       "      <td>Rural</td>\n",
       "      <td>High School</td>\n",
       "      <td>5L-10L</td>\n",
       "      <td>0</td>\n",
       "      <td>8</td>\n",
       "      <td>5080</td>\n",
       "      <td>More than 1</td>\n",
       "      <td>A</td>\n",
       "      <td>Platinum</td>\n",
       "    </tr>\n",
       "    <tr>\n",
       "      <th>2</th>\n",
       "      <td>Male</td>\n",
       "      <td>Urban</td>\n",
       "      <td>Bachelor</td>\n",
       "      <td>5L-10L</td>\n",
       "      <td>1</td>\n",
       "      <td>8</td>\n",
       "      <td>2599</td>\n",
       "      <td>More than 1</td>\n",
       "      <td>A</td>\n",
       "      <td>Platinum</td>\n",
       "    </tr>\n",
       "    <tr>\n",
       "      <th>3</th>\n",
       "      <td>Female</td>\n",
       "      <td>Rural</td>\n",
       "      <td>High School</td>\n",
       "      <td>5L-10L</td>\n",
       "      <td>0</td>\n",
       "      <td>7</td>\n",
       "      <td>0</td>\n",
       "      <td>More than 1</td>\n",
       "      <td>A</td>\n",
       "      <td>Platinum</td>\n",
       "    </tr>\n",
       "    <tr>\n",
       "      <th>4</th>\n",
       "      <td>Male</td>\n",
       "      <td>Urban</td>\n",
       "      <td>High School</td>\n",
       "      <td>More than 10L</td>\n",
       "      <td>1</td>\n",
       "      <td>6</td>\n",
       "      <td>3508</td>\n",
       "      <td>More than 1</td>\n",
       "      <td>A</td>\n",
       "      <td>Gold</td>\n",
       "    </tr>\n",
       "    <tr>\n",
       "      <th>5</th>\n",
       "      <td>Male</td>\n",
       "      <td>Rural</td>\n",
       "      <td>High School</td>\n",
       "      <td>More than 10L</td>\n",
       "      <td>1</td>\n",
       "      <td>1</td>\n",
       "      <td>0</td>\n",
       "      <td>1</td>\n",
       "      <td>C</td>\n",
       "      <td>Gold</td>\n",
       "    </tr>\n",
       "    <tr>\n",
       "      <th>6</th>\n",
       "      <td>Female</td>\n",
       "      <td>Rural</td>\n",
       "      <td>Bachelor</td>\n",
       "      <td>5L-10L</td>\n",
       "      <td>1</td>\n",
       "      <td>6</td>\n",
       "      <td>0</td>\n",
       "      <td>More than 1</td>\n",
       "      <td>A</td>\n",
       "      <td>Gold</td>\n",
       "    </tr>\n",
       "    <tr>\n",
       "      <th>7</th>\n",
       "      <td>Female</td>\n",
       "      <td>Urban</td>\n",
       "      <td>High School</td>\n",
       "      <td>5L-10L</td>\n",
       "      <td>0</td>\n",
       "      <td>0</td>\n",
       "      <td>5473</td>\n",
       "      <td>More than 1</td>\n",
       "      <td>A</td>\n",
       "      <td>Silver</td>\n",
       "    </tr>\n",
       "    <tr>\n",
       "      <th>8</th>\n",
       "      <td>Female</td>\n",
       "      <td>Urban</td>\n",
       "      <td>High School</td>\n",
       "      <td>5L-10L</td>\n",
       "      <td>1</td>\n",
       "      <td>3</td>\n",
       "      <td>6105</td>\n",
       "      <td>More than 1</td>\n",
       "      <td>A</td>\n",
       "      <td>Gold</td>\n",
       "    </tr>\n",
       "    <tr>\n",
       "      <th>9</th>\n",
       "      <td>Male</td>\n",
       "      <td>Rural</td>\n",
       "      <td>High School</td>\n",
       "      <td>More than 10L</td>\n",
       "      <td>1</td>\n",
       "      <td>6</td>\n",
       "      <td>0</td>\n",
       "      <td>More than 1</td>\n",
       "      <td>A</td>\n",
       "      <td>Platinum</td>\n",
       "    </tr>\n",
       "    <tr>\n",
       "      <th>10</th>\n",
       "      <td>Male</td>\n",
       "      <td>Urban</td>\n",
       "      <td>High School</td>\n",
       "      <td>5L-10L</td>\n",
       "      <td>0</td>\n",
       "      <td>4</td>\n",
       "      <td>4329</td>\n",
       "      <td>More than 1</td>\n",
       "      <td>A</td>\n",
       "      <td>Platinum</td>\n",
       "    </tr>\n",
       "    <tr>\n",
       "      <th>11</th>\n",
       "      <td>Male</td>\n",
       "      <td>Urban</td>\n",
       "      <td>Bachelor</td>\n",
       "      <td>2L-5L</td>\n",
       "      <td>0</td>\n",
       "      <td>6</td>\n",
       "      <td>6351</td>\n",
       "      <td>More than 1</td>\n",
       "      <td>C</td>\n",
       "      <td>Silver</td>\n",
       "    </tr>\n",
       "    <tr>\n",
       "      <th>12</th>\n",
       "      <td>Male</td>\n",
       "      <td>Urban</td>\n",
       "      <td>Bachelor</td>\n",
       "      <td>2L-5L</td>\n",
       "      <td>1</td>\n",
       "      <td>7</td>\n",
       "      <td>4327</td>\n",
       "      <td>1</td>\n",
       "      <td>A</td>\n",
       "      <td>Platinum</td>\n",
       "    </tr>\n",
       "    <tr>\n",
       "      <th>13</th>\n",
       "      <td>Male</td>\n",
       "      <td>Urban</td>\n",
       "      <td>Bachelor</td>\n",
       "      <td>2L-5L</td>\n",
       "      <td>1</td>\n",
       "      <td>1</td>\n",
       "      <td>4615</td>\n",
       "      <td>More than 1</td>\n",
       "      <td>C</td>\n",
       "      <td>Silver</td>\n",
       "    </tr>\n",
       "    <tr>\n",
       "      <th>14</th>\n",
       "      <td>Male</td>\n",
       "      <td>Urban</td>\n",
       "      <td>Bachelor</td>\n",
       "      <td>5L-10L</td>\n",
       "      <td>0</td>\n",
       "      <td>8</td>\n",
       "      <td>6915</td>\n",
       "      <td>More than 1</td>\n",
       "      <td>A</td>\n",
       "      <td>Platinum</td>\n",
       "    </tr>\n",
       "    <tr>\n",
       "      <th>15</th>\n",
       "      <td>Female</td>\n",
       "      <td>Urban</td>\n",
       "      <td>High School</td>\n",
       "      <td>2L-5L</td>\n",
       "      <td>0</td>\n",
       "      <td>1</td>\n",
       "      <td>5398</td>\n",
       "      <td>1</td>\n",
       "      <td>A</td>\n",
       "      <td>Gold</td>\n",
       "    </tr>\n",
       "    <tr>\n",
       "      <th>16</th>\n",
       "      <td>Male</td>\n",
       "      <td>Rural</td>\n",
       "      <td>Bachelor</td>\n",
       "      <td>5L-10L</td>\n",
       "      <td>0</td>\n",
       "      <td>5</td>\n",
       "      <td>0</td>\n",
       "      <td>1</td>\n",
       "      <td>A</td>\n",
       "      <td>Silver</td>\n",
       "    </tr>\n",
       "    <tr>\n",
       "      <th>17</th>\n",
       "      <td>Female</td>\n",
       "      <td>Rural</td>\n",
       "      <td>High School</td>\n",
       "      <td>More than 10L</td>\n",
       "      <td>1</td>\n",
       "      <td>2</td>\n",
       "      <td>0</td>\n",
       "      <td>More than 1</td>\n",
       "      <td>A</td>\n",
       "      <td>Silver</td>\n",
       "    </tr>\n",
       "    <tr>\n",
       "      <th>18</th>\n",
       "      <td>Female</td>\n",
       "      <td>Urban</td>\n",
       "      <td>High School</td>\n",
       "      <td>5L-10L</td>\n",
       "      <td>1</td>\n",
       "      <td>7</td>\n",
       "      <td>4336</td>\n",
       "      <td>More than 1</td>\n",
       "      <td>C</td>\n",
       "      <td>Platinum</td>\n",
       "    </tr>\n",
       "    <tr>\n",
       "      <th>19</th>\n",
       "      <td>Female</td>\n",
       "      <td>Urban</td>\n",
       "      <td>Bachelor</td>\n",
       "      <td>More than 10L</td>\n",
       "      <td>1</td>\n",
       "      <td>2</td>\n",
       "      <td>7541</td>\n",
       "      <td>More than 1</td>\n",
       "      <td>A</td>\n",
       "      <td>Platinum</td>\n",
       "    </tr>\n",
       "  </tbody>\n",
       "</table>\n",
       "</div>"
      ],
      "text/plain": [
       "    gender   area qualification         income  marital_status  vintage  \\\n",
       "0     Male  Urban      Bachelor         5L-10L               1        5   \n",
       "1     Male  Rural   High School         5L-10L               0        8   \n",
       "2     Male  Urban      Bachelor         5L-10L               1        8   \n",
       "3   Female  Rural   High School         5L-10L               0        7   \n",
       "4     Male  Urban   High School  More than 10L               1        6   \n",
       "5     Male  Rural   High School  More than 10L               1        1   \n",
       "6   Female  Rural      Bachelor         5L-10L               1        6   \n",
       "7   Female  Urban   High School         5L-10L               0        0   \n",
       "8   Female  Urban   High School         5L-10L               1        3   \n",
       "9     Male  Rural   High School  More than 10L               1        6   \n",
       "10    Male  Urban   High School         5L-10L               0        4   \n",
       "11    Male  Urban      Bachelor          2L-5L               0        6   \n",
       "12    Male  Urban      Bachelor          2L-5L               1        7   \n",
       "13    Male  Urban      Bachelor          2L-5L               1        1   \n",
       "14    Male  Urban      Bachelor         5L-10L               0        8   \n",
       "15  Female  Urban   High School          2L-5L               0        1   \n",
       "16    Male  Rural      Bachelor         5L-10L               0        5   \n",
       "17  Female  Rural   High School  More than 10L               1        2   \n",
       "18  Female  Urban   High School         5L-10L               1        7   \n",
       "19  Female  Urban      Bachelor  More than 10L               1        2   \n",
       "\n",
       "    claim_amount num_policies policy type_of_policy  \n",
       "0           5790  More than 1      A       Platinum  \n",
       "1           5080  More than 1      A       Platinum  \n",
       "2           2599  More than 1      A       Platinum  \n",
       "3              0  More than 1      A       Platinum  \n",
       "4           3508  More than 1      A           Gold  \n",
       "5              0            1      C           Gold  \n",
       "6              0  More than 1      A           Gold  \n",
       "7           5473  More than 1      A         Silver  \n",
       "8           6105  More than 1      A           Gold  \n",
       "9              0  More than 1      A       Platinum  \n",
       "10          4329  More than 1      A       Platinum  \n",
       "11          6351  More than 1      C         Silver  \n",
       "12          4327            1      A       Platinum  \n",
       "13          4615  More than 1      C         Silver  \n",
       "14          6915  More than 1      A       Platinum  \n",
       "15          5398            1      A           Gold  \n",
       "16             0            1      A         Silver  \n",
       "17             0  More than 1      A         Silver  \n",
       "18          4336  More than 1      C       Platinum  \n",
       "19          7541  More than 1      A       Platinum  "
      ]
     },
     "execution_count": 8,
     "metadata": {},
     "output_type": "execute_result"
    }
   ],
   "source": [
    "X.head(20)"
   ]
  },
  {
   "cell_type": "markdown",
   "id": "9f511d5e",
   "metadata": {},
   "source": [
    "## 4. EDA(Exploratory Data Analysis)"
   ]
  },
  {
   "cell_type": "markdown",
   "id": "ea759015",
   "metadata": {},
   "source": [
    "Here we have both categorical as well as continuous coloums so we have to convert them in to continuous first we have to seperate them"
   ]
  },
  {
   "cell_type": "markdown",
   "id": "af65d3f8",
   "metadata": {},
   "source": [
    "### Separating Categorical and Continuous coloumns,Defining Preprocessing,Standardize,Anova,Chisquare and Outliers"
   ]
  },
  {
   "cell_type": "code",
   "execution_count": 9,
   "id": "25706a55",
   "metadata": {},
   "outputs": [],
   "source": [
    "def preprocessing(df):\n",
    "    cat,con = catconsep(df)\n",
    "    X1 = standardize(df)\n",
    "    import pandas as pd\n",
    "    X2 = pd.get_dummies(df[cat])\n",
    "    Xnew = X1.join(X2)\n",
    "    return Xnew\n",
    "\n",
    "def standardize(df):\n",
    "    import pandas as pd\n",
    "    cat,con = catconsep(df)\n",
    "    from sklearn.preprocessing import StandardScaler\n",
    "    ss = StandardScaler()\n",
    "    X1 = pd.DataFrame(ss.fit_transform(df[con]),columns=con)\n",
    "    return X1\n",
    "\n",
    "def ANOVA(df,cat,con):\n",
    "    from pandas import DataFrame\n",
    "    from statsmodels.api import OLS\n",
    "    from statsmodels.formula.api import ols\n",
    "    rel = con + \" ~ \" + cat\n",
    "    model = ols(rel,df).fit()\n",
    "    from statsmodels.stats.anova import anova_lm\n",
    "    anova_results = anova_lm(model)\n",
    "    Q = DataFrame(anova_results)\n",
    "    a = Q['PR(>F)'][cat]\n",
    "    return round(a,3)\n",
    "\n",
    "def chisquare(df,cat1,cat2):\n",
    "    from scipy.stats import chi2_contingency\n",
    "    import pandas as pd\n",
    "    ct = pd.crosstab(df[cat1],df[cat2])\n",
    "    a,b,c,d = chi2_contingency(ct)\n",
    "    return b\n",
    "\n",
    "def outliers(df):\n",
    "    con = []\n",
    "    for i in df.columns:\n",
    "        if(df[i].dtypes != \"object\"):\n",
    "            con.append(i)\n",
    "    outliers = []\n",
    "    for i in con:\n",
    "        outliers.extend(list(df[df[i]>3].index))\n",
    "        outliers.extend(list(df[df[i]<-3].index))\n",
    "    from numpy import unique\n",
    "    return list(unique(outliers))\n",
    "\n",
    "def catconsep(df):\n",
    "    cat = []\n",
    "    con = []\n",
    "    for i in df.columns:\n",
    "        if(df[i].dtypes == \"object\"):\n",
    "            cat.append(i)\n",
    "        else:\n",
    "            con.append(i)\n",
    "    return cat,con"
   ]
  },
  {
   "cell_type": "markdown",
   "id": "21a96bbb",
   "metadata": {},
   "source": [
    "## Checking ANOVA values"
   ]
  },
  {
   "cell_type": "code",
   "execution_count": 10,
   "id": "0b863094",
   "metadata": {},
   "outputs": [],
   "source": [
    "cat = []\n",
    "con = []\n",
    "for i in X.columns: \n",
    "    if(X[i].dtypes==\"object\"):\n",
    "        cat.append(i)\n",
    "    else:\n",
    "        con.append(i)"
   ]
  },
  {
   "cell_type": "code",
   "execution_count": 11,
   "id": "45cb8d6f",
   "metadata": {},
   "outputs": [
    {
     "name": "stdout",
     "output_type": "stream",
     "text": [
      "------------- cltv vs marital_status -------------\n",
      "0.0\n",
      "------------- cltv vs vintage -------------\n",
      "0.0\n",
      "------------- cltv vs claim_amount -------------\n",
      "0.0\n"
     ]
    }
   ],
   "source": [
    "for i in con:\n",
    "    print(\"-------------\",\"cltv vs\",i,\"-------------\")\n",
    "    print(ANOVA(train,\"cltv\",i))"
   ]
  },
  {
   "cell_type": "markdown",
   "id": "bd225106",
   "metadata": {},
   "source": [
    "## Checking Chisquare Value"
   ]
  },
  {
   "cell_type": "code",
   "execution_count": 12,
   "id": "7e37afde",
   "metadata": {},
   "outputs": [
    {
     "name": "stdout",
     "output_type": "stream",
     "text": [
      "---------- cltv vs gender -----------\n",
      "0.024135469316112507\n",
      "---------- cltv vs area -----------\n",
      "1.0\n",
      "---------- cltv vs qualification -----------\n",
      "1.0\n",
      "---------- cltv vs income -----------\n",
      "2.0724262047274186e-49\n",
      "---------- cltv vs num_policies -----------\n",
      "0.0\n",
      "---------- cltv vs policy -----------\n",
      "1.8426826884024617e-35\n",
      "---------- cltv vs type_of_policy -----------\n",
      "0.3106478022706552\n"
     ]
    }
   ],
   "source": [
    "for i in cat:\n",
    "    print(\"----------\",\"cltv vs\",i,\"-----------\")\n",
    "    print(chisquare(train,\"cltv\",i))"
   ]
  },
  {
   "cell_type": "code",
   "execution_count": 13,
   "id": "b3d990c0",
   "metadata": {},
   "outputs": [
    {
     "data": {
      "text/plain": [
       "['gender',\n",
       " 'area',\n",
       " 'qualification',\n",
       " 'income',\n",
       " 'num_policies',\n",
       " 'policy',\n",
       " 'type_of_policy']"
      ]
     },
     "execution_count": 13,
     "metadata": {},
     "output_type": "execute_result"
    }
   ],
   "source": [
    "cat"
   ]
  },
  {
   "cell_type": "code",
   "execution_count": 14,
   "id": "d1b68d99",
   "metadata": {},
   "outputs": [
    {
     "data": {
      "text/plain": [
       "['marital_status', 'vintage', 'claim_amount']"
      ]
     },
     "execution_count": 14,
     "metadata": {},
     "output_type": "execute_result"
    }
   ],
   "source": [
    "con"
   ]
  },
  {
   "cell_type": "markdown",
   "id": "44bfecdf",
   "metadata": {},
   "source": [
    "## Step 5 : Preprocessing of the Data"
   ]
  },
  {
   "cell_type": "code",
   "execution_count": 15,
   "id": "8b59fa7d",
   "metadata": {},
   "outputs": [],
   "source": [
    "Xnew = preprocessing(X)"
   ]
  },
  {
   "cell_type": "code",
   "execution_count": 16,
   "id": "3591b3ba",
   "metadata": {},
   "outputs": [
    {
     "data": {
      "text/html": [
       "<div>\n",
       "<style scoped>\n",
       "    .dataframe tbody tr th:only-of-type {\n",
       "        vertical-align: middle;\n",
       "    }\n",
       "\n",
       "    .dataframe tbody tr th {\n",
       "        vertical-align: top;\n",
       "    }\n",
       "\n",
       "    .dataframe thead th {\n",
       "        text-align: right;\n",
       "    }\n",
       "</style>\n",
       "<table border=\"1\" class=\"dataframe\">\n",
       "  <thead>\n",
       "    <tr style=\"text-align: right;\">\n",
       "      <th></th>\n",
       "      <th>marital_status</th>\n",
       "      <th>vintage</th>\n",
       "      <th>claim_amount</th>\n",
       "      <th>gender_Female</th>\n",
       "      <th>gender_Male</th>\n",
       "      <th>area_Rural</th>\n",
       "      <th>area_Urban</th>\n",
       "      <th>qualification_Bachelor</th>\n",
       "      <th>qualification_High School</th>\n",
       "      <th>qualification_Others</th>\n",
       "      <th>...</th>\n",
       "      <th>income_&lt;=2L</th>\n",
       "      <th>income_More than 10L</th>\n",
       "      <th>num_policies_1</th>\n",
       "      <th>num_policies_More than 1</th>\n",
       "      <th>policy_A</th>\n",
       "      <th>policy_B</th>\n",
       "      <th>policy_C</th>\n",
       "      <th>type_of_policy_Gold</th>\n",
       "      <th>type_of_policy_Platinum</th>\n",
       "      <th>type_of_policy_Silver</th>\n",
       "    </tr>\n",
       "  </thead>\n",
       "  <tbody>\n",
       "    <tr>\n",
       "      <th>0</th>\n",
       "      <td>0.858869</td>\n",
       "      <td>0.176531</td>\n",
       "      <td>0.440940</td>\n",
       "      <td>0</td>\n",
       "      <td>1</td>\n",
       "      <td>0</td>\n",
       "      <td>1</td>\n",
       "      <td>1</td>\n",
       "      <td>0</td>\n",
       "      <td>0</td>\n",
       "      <td>...</td>\n",
       "      <td>0</td>\n",
       "      <td>0</td>\n",
       "      <td>0</td>\n",
       "      <td>1</td>\n",
       "      <td>1</td>\n",
       "      <td>0</td>\n",
       "      <td>0</td>\n",
       "      <td>0</td>\n",
       "      <td>1</td>\n",
       "      <td>0</td>\n",
       "    </tr>\n",
       "    <tr>\n",
       "      <th>1</th>\n",
       "      <td>-1.164322</td>\n",
       "      <td>1.486327</td>\n",
       "      <td>0.223305</td>\n",
       "      <td>0</td>\n",
       "      <td>1</td>\n",
       "      <td>1</td>\n",
       "      <td>0</td>\n",
       "      <td>0</td>\n",
       "      <td>1</td>\n",
       "      <td>0</td>\n",
       "      <td>...</td>\n",
       "      <td>0</td>\n",
       "      <td>0</td>\n",
       "      <td>0</td>\n",
       "      <td>1</td>\n",
       "      <td>1</td>\n",
       "      <td>0</td>\n",
       "      <td>0</td>\n",
       "      <td>0</td>\n",
       "      <td>1</td>\n",
       "      <td>0</td>\n",
       "    </tr>\n",
       "    <tr>\n",
       "      <th>2</th>\n",
       "      <td>0.858869</td>\n",
       "      <td>1.486327</td>\n",
       "      <td>-0.537192</td>\n",
       "      <td>0</td>\n",
       "      <td>1</td>\n",
       "      <td>0</td>\n",
       "      <td>1</td>\n",
       "      <td>1</td>\n",
       "      <td>0</td>\n",
       "      <td>0</td>\n",
       "      <td>...</td>\n",
       "      <td>0</td>\n",
       "      <td>0</td>\n",
       "      <td>0</td>\n",
       "      <td>1</td>\n",
       "      <td>1</td>\n",
       "      <td>0</td>\n",
       "      <td>0</td>\n",
       "      <td>0</td>\n",
       "      <td>1</td>\n",
       "      <td>0</td>\n",
       "    </tr>\n",
       "    <tr>\n",
       "      <th>3</th>\n",
       "      <td>-1.164322</td>\n",
       "      <td>1.049728</td>\n",
       "      <td>-1.333859</td>\n",
       "      <td>1</td>\n",
       "      <td>0</td>\n",
       "      <td>1</td>\n",
       "      <td>0</td>\n",
       "      <td>0</td>\n",
       "      <td>1</td>\n",
       "      <td>0</td>\n",
       "      <td>...</td>\n",
       "      <td>0</td>\n",
       "      <td>0</td>\n",
       "      <td>0</td>\n",
       "      <td>1</td>\n",
       "      <td>1</td>\n",
       "      <td>0</td>\n",
       "      <td>0</td>\n",
       "      <td>0</td>\n",
       "      <td>1</td>\n",
       "      <td>0</td>\n",
       "    </tr>\n",
       "    <tr>\n",
       "      <th>4</th>\n",
       "      <td>0.858869</td>\n",
       "      <td>0.613129</td>\n",
       "      <td>-0.258557</td>\n",
       "      <td>0</td>\n",
       "      <td>1</td>\n",
       "      <td>0</td>\n",
       "      <td>1</td>\n",
       "      <td>0</td>\n",
       "      <td>1</td>\n",
       "      <td>0</td>\n",
       "      <td>...</td>\n",
       "      <td>0</td>\n",
       "      <td>1</td>\n",
       "      <td>0</td>\n",
       "      <td>1</td>\n",
       "      <td>1</td>\n",
       "      <td>0</td>\n",
       "      <td>0</td>\n",
       "      <td>1</td>\n",
       "      <td>0</td>\n",
       "      <td>0</td>\n",
       "    </tr>\n",
       "    <tr>\n",
       "      <th>...</th>\n",
       "      <td>...</td>\n",
       "      <td>...</td>\n",
       "      <td>...</td>\n",
       "      <td>...</td>\n",
       "      <td>...</td>\n",
       "      <td>...</td>\n",
       "      <td>...</td>\n",
       "      <td>...</td>\n",
       "      <td>...</td>\n",
       "      <td>...</td>\n",
       "      <td>...</td>\n",
       "      <td>...</td>\n",
       "      <td>...</td>\n",
       "      <td>...</td>\n",
       "      <td>...</td>\n",
       "      <td>...</td>\n",
       "      <td>...</td>\n",
       "      <td>...</td>\n",
       "      <td>...</td>\n",
       "      <td>...</td>\n",
       "      <td>...</td>\n",
       "    </tr>\n",
       "    <tr>\n",
       "      <th>89387</th>\n",
       "      <td>-1.164322</td>\n",
       "      <td>0.613129</td>\n",
       "      <td>-1.333859</td>\n",
       "      <td>0</td>\n",
       "      <td>1</td>\n",
       "      <td>1</td>\n",
       "      <td>0</td>\n",
       "      <td>0</td>\n",
       "      <td>1</td>\n",
       "      <td>0</td>\n",
       "      <td>...</td>\n",
       "      <td>0</td>\n",
       "      <td>1</td>\n",
       "      <td>0</td>\n",
       "      <td>1</td>\n",
       "      <td>0</td>\n",
       "      <td>1</td>\n",
       "      <td>0</td>\n",
       "      <td>0</td>\n",
       "      <td>1</td>\n",
       "      <td>0</td>\n",
       "    </tr>\n",
       "    <tr>\n",
       "      <th>89388</th>\n",
       "      <td>0.858869</td>\n",
       "      <td>-2.006463</td>\n",
       "      <td>-0.139318</td>\n",
       "      <td>0</td>\n",
       "      <td>1</td>\n",
       "      <td>0</td>\n",
       "      <td>1</td>\n",
       "      <td>1</td>\n",
       "      <td>0</td>\n",
       "      <td>0</td>\n",
       "      <td>...</td>\n",
       "      <td>0</td>\n",
       "      <td>0</td>\n",
       "      <td>0</td>\n",
       "      <td>1</td>\n",
       "      <td>1</td>\n",
       "      <td>0</td>\n",
       "      <td>0</td>\n",
       "      <td>0</td>\n",
       "      <td>1</td>\n",
       "      <td>0</td>\n",
       "    </tr>\n",
       "    <tr>\n",
       "      <th>89389</th>\n",
       "      <td>-1.164322</td>\n",
       "      <td>-0.260068</td>\n",
       "      <td>-0.303004</td>\n",
       "      <td>1</td>\n",
       "      <td>0</td>\n",
       "      <td>0</td>\n",
       "      <td>1</td>\n",
       "      <td>1</td>\n",
       "      <td>0</td>\n",
       "      <td>0</td>\n",
       "      <td>...</td>\n",
       "      <td>0</td>\n",
       "      <td>0</td>\n",
       "      <td>0</td>\n",
       "      <td>1</td>\n",
       "      <td>0</td>\n",
       "      <td>1</td>\n",
       "      <td>0</td>\n",
       "      <td>0</td>\n",
       "      <td>1</td>\n",
       "      <td>0</td>\n",
       "    </tr>\n",
       "    <tr>\n",
       "      <th>89390</th>\n",
       "      <td>-1.164322</td>\n",
       "      <td>1.486327</td>\n",
       "      <td>-1.333859</td>\n",
       "      <td>1</td>\n",
       "      <td>0</td>\n",
       "      <td>1</td>\n",
       "      <td>0</td>\n",
       "      <td>0</td>\n",
       "      <td>1</td>\n",
       "      <td>0</td>\n",
       "      <td>...</td>\n",
       "      <td>0</td>\n",
       "      <td>0</td>\n",
       "      <td>0</td>\n",
       "      <td>1</td>\n",
       "      <td>0</td>\n",
       "      <td>1</td>\n",
       "      <td>0</td>\n",
       "      <td>0</td>\n",
       "      <td>1</td>\n",
       "      <td>0</td>\n",
       "    </tr>\n",
       "    <tr>\n",
       "      <th>89391</th>\n",
       "      <td>-1.164322</td>\n",
       "      <td>0.613129</td>\n",
       "      <td>-1.333859</td>\n",
       "      <td>1</td>\n",
       "      <td>0</td>\n",
       "      <td>1</td>\n",
       "      <td>0</td>\n",
       "      <td>0</td>\n",
       "      <td>1</td>\n",
       "      <td>0</td>\n",
       "      <td>...</td>\n",
       "      <td>0</td>\n",
       "      <td>0</td>\n",
       "      <td>0</td>\n",
       "      <td>1</td>\n",
       "      <td>0</td>\n",
       "      <td>1</td>\n",
       "      <td>0</td>\n",
       "      <td>1</td>\n",
       "      <td>0</td>\n",
       "      <td>0</td>\n",
       "    </tr>\n",
       "  </tbody>\n",
       "</table>\n",
       "<p>89392 rows × 22 columns</p>\n",
       "</div>"
      ],
      "text/plain": [
       "       marital_status   vintage  claim_amount  gender_Female  gender_Male  \\\n",
       "0            0.858869  0.176531      0.440940              0            1   \n",
       "1           -1.164322  1.486327      0.223305              0            1   \n",
       "2            0.858869  1.486327     -0.537192              0            1   \n",
       "3           -1.164322  1.049728     -1.333859              1            0   \n",
       "4            0.858869  0.613129     -0.258557              0            1   \n",
       "...               ...       ...           ...            ...          ...   \n",
       "89387       -1.164322  0.613129     -1.333859              0            1   \n",
       "89388        0.858869 -2.006463     -0.139318              0            1   \n",
       "89389       -1.164322 -0.260068     -0.303004              1            0   \n",
       "89390       -1.164322  1.486327     -1.333859              1            0   \n",
       "89391       -1.164322  0.613129     -1.333859              1            0   \n",
       "\n",
       "       area_Rural  area_Urban  qualification_Bachelor  \\\n",
       "0               0           1                       1   \n",
       "1               1           0                       0   \n",
       "2               0           1                       1   \n",
       "3               1           0                       0   \n",
       "4               0           1                       0   \n",
       "...           ...         ...                     ...   \n",
       "89387           1           0                       0   \n",
       "89388           0           1                       1   \n",
       "89389           0           1                       1   \n",
       "89390           1           0                       0   \n",
       "89391           1           0                       0   \n",
       "\n",
       "       qualification_High School  qualification_Others  ...  income_<=2L  \\\n",
       "0                              0                     0  ...            0   \n",
       "1                              1                     0  ...            0   \n",
       "2                              0                     0  ...            0   \n",
       "3                              1                     0  ...            0   \n",
       "4                              1                     0  ...            0   \n",
       "...                          ...                   ...  ...          ...   \n",
       "89387                          1                     0  ...            0   \n",
       "89388                          0                     0  ...            0   \n",
       "89389                          0                     0  ...            0   \n",
       "89390                          1                     0  ...            0   \n",
       "89391                          1                     0  ...            0   \n",
       "\n",
       "       income_More than 10L  num_policies_1  num_policies_More than 1  \\\n",
       "0                         0               0                         1   \n",
       "1                         0               0                         1   \n",
       "2                         0               0                         1   \n",
       "3                         0               0                         1   \n",
       "4                         1               0                         1   \n",
       "...                     ...             ...                       ...   \n",
       "89387                     1               0                         1   \n",
       "89388                     0               0                         1   \n",
       "89389                     0               0                         1   \n",
       "89390                     0               0                         1   \n",
       "89391                     0               0                         1   \n",
       "\n",
       "       policy_A  policy_B  policy_C  type_of_policy_Gold  \\\n",
       "0             1         0         0                    0   \n",
       "1             1         0         0                    0   \n",
       "2             1         0         0                    0   \n",
       "3             1         0         0                    0   \n",
       "4             1         0         0                    1   \n",
       "...         ...       ...       ...                  ...   \n",
       "89387         0         1         0                    0   \n",
       "89388         1         0         0                    0   \n",
       "89389         0         1         0                    0   \n",
       "89390         0         1         0                    0   \n",
       "89391         0         1         0                    1   \n",
       "\n",
       "       type_of_policy_Platinum  type_of_policy_Silver  \n",
       "0                            1                      0  \n",
       "1                            1                      0  \n",
       "2                            1                      0  \n",
       "3                            1                      0  \n",
       "4                            0                      0  \n",
       "...                        ...                    ...  \n",
       "89387                        1                      0  \n",
       "89388                        1                      0  \n",
       "89389                        1                      0  \n",
       "89390                        1                      0  \n",
       "89391                        0                      0  \n",
       "\n",
       "[89392 rows x 22 columns]"
      ]
     },
     "execution_count": 16,
     "metadata": {},
     "output_type": "execute_result"
    }
   ],
   "source": [
    "Xnew"
   ]
  },
  {
   "cell_type": "markdown",
   "id": "7c182191",
   "metadata": {},
   "source": [
    "## Step 6 : Training,Testing and Splitting Model"
   ]
  },
  {
   "cell_type": "code",
   "execution_count": 17,
   "id": "1b7f6c2c",
   "metadata": {},
   "outputs": [],
   "source": [
    "from sklearn.model_selection import train_test_split\n",
    "xtrain,xtest,ytrain,ytest = train_test_split(Xnew,Y,test_size=0.4,random_state=21)"
   ]
  },
  {
   "cell_type": "markdown",
   "id": "4205d1e8",
   "metadata": {},
   "source": [
    "## Step 7 : Decision Tree"
   ]
  },
  {
   "cell_type": "markdown",
   "id": "48d51747",
   "metadata": {},
   "source": [
    "Here We have used Decision tree as we have labelled data in Y and we want a good accuracy"
   ]
  },
  {
   "cell_type": "code",
   "execution_count": 18,
   "id": "e794d705",
   "metadata": {},
   "outputs": [],
   "source": [
    "from sklearn.tree import DecisionTreeRegressor\n",
    "dtr = DecisionTreeRegressor(criterion=\"mse\",random_state=21,max_depth=5)\n",
    "\n",
    "model = dtr.fit(xtrain,ytrain)\n",
    "\n",
    "pred_tr = model.predict(xtrain)\n",
    "pred_ts = model.predict(xtest)"
   ]
  },
  {
   "cell_type": "code",
   "execution_count": 19,
   "id": "e8fc0d36",
   "metadata": {},
   "outputs": [
    {
     "data": {
      "text/plain": [
       "0.15247861791937145"
      ]
     },
     "execution_count": 19,
     "metadata": {},
     "output_type": "execute_result"
    }
   ],
   "source": [
    "from sklearn.metrics import r2_score\n",
    "r2_score(ytest,pred_ts)"
   ]
  },
  {
   "cell_type": "markdown",
   "id": "895f92eb",
   "metadata": {},
   "source": [
    "## Random Forest Regressor"
   ]
  },
  {
   "cell_type": "code",
   "execution_count": 20,
   "id": "f9e69b1e",
   "metadata": {},
   "outputs": [],
   "source": [
    "from sklearn.ensemble import RandomForestRegressor\n",
    "rfr = RandomForestRegressor(criterion=\"mse\",random_state=21,max_depth=5)\n",
    "model = rfr.fit(xtrain,ytrain)\n",
    "\n",
    "pred_tr = model.predict(xtrain)\n",
    "pred_ts = model.predict(xtest)"
   ]
  },
  {
   "cell_type": "markdown",
   "id": "41462635",
   "metadata": {},
   "source": [
    "## R2_Score"
   ]
  },
  {
   "cell_type": "code",
   "execution_count": 21,
   "id": "36034617",
   "metadata": {},
   "outputs": [
    {
     "data": {
      "text/plain": [
       "0.15440491862471084"
      ]
     },
     "execution_count": 21,
     "metadata": {},
     "output_type": "execute_result"
    }
   ],
   "source": [
    "from sklearn.metrics import r2_score\n",
    "r2_score(ytest,pred_ts)"
   ]
  },
  {
   "cell_type": "markdown",
   "id": "20f4b265",
   "metadata": {},
   "source": [
    "## Step 8 : Getting Data for Prediction"
   ]
  },
  {
   "cell_type": "code",
   "execution_count": 22,
   "id": "0c3077d1",
   "metadata": {},
   "outputs": [],
   "source": [
    "B = pd.read_csv(\"test.csv\")"
   ]
  },
  {
   "cell_type": "code",
   "execution_count": 23,
   "id": "5b765c23",
   "metadata": {},
   "outputs": [],
   "source": [
    "B1 = B[X.columns].head()"
   ]
  },
  {
   "cell_type": "code",
   "execution_count": 24,
   "id": "8391fdd6",
   "metadata": {},
   "outputs": [
    {
     "data": {
      "text/html": [
       "<div>\n",
       "<style scoped>\n",
       "    .dataframe tbody tr th:only-of-type {\n",
       "        vertical-align: middle;\n",
       "    }\n",
       "\n",
       "    .dataframe tbody tr th {\n",
       "        vertical-align: top;\n",
       "    }\n",
       "\n",
       "    .dataframe thead th {\n",
       "        text-align: right;\n",
       "    }\n",
       "</style>\n",
       "<table border=\"1\" class=\"dataframe\">\n",
       "  <thead>\n",
       "    <tr style=\"text-align: right;\">\n",
       "      <th></th>\n",
       "      <th>gender</th>\n",
       "      <th>area</th>\n",
       "      <th>qualification</th>\n",
       "      <th>income</th>\n",
       "      <th>marital_status</th>\n",
       "      <th>vintage</th>\n",
       "      <th>claim_amount</th>\n",
       "      <th>num_policies</th>\n",
       "      <th>policy</th>\n",
       "      <th>type_of_policy</th>\n",
       "    </tr>\n",
       "  </thead>\n",
       "  <tbody>\n",
       "    <tr>\n",
       "      <th>0</th>\n",
       "      <td>Female</td>\n",
       "      <td>Rural</td>\n",
       "      <td>High School</td>\n",
       "      <td>5L-10L</td>\n",
       "      <td>0</td>\n",
       "      <td>6</td>\n",
       "      <td>2134</td>\n",
       "      <td>More than 1</td>\n",
       "      <td>B</td>\n",
       "      <td>Silver</td>\n",
       "    </tr>\n",
       "    <tr>\n",
       "      <th>1</th>\n",
       "      <td>Female</td>\n",
       "      <td>Urban</td>\n",
       "      <td>High School</td>\n",
       "      <td>2L-5L</td>\n",
       "      <td>0</td>\n",
       "      <td>4</td>\n",
       "      <td>4102</td>\n",
       "      <td>More than 1</td>\n",
       "      <td>A</td>\n",
       "      <td>Platinum</td>\n",
       "    </tr>\n",
       "    <tr>\n",
       "      <th>2</th>\n",
       "      <td>Male</td>\n",
       "      <td>Rural</td>\n",
       "      <td>High School</td>\n",
       "      <td>5L-10L</td>\n",
       "      <td>1</td>\n",
       "      <td>7</td>\n",
       "      <td>2925</td>\n",
       "      <td>More than 1</td>\n",
       "      <td>B</td>\n",
       "      <td>Gold</td>\n",
       "    </tr>\n",
       "    <tr>\n",
       "      <th>3</th>\n",
       "      <td>Female</td>\n",
       "      <td>Rural</td>\n",
       "      <td>Bachelor</td>\n",
       "      <td>More than 10L</td>\n",
       "      <td>1</td>\n",
       "      <td>2</td>\n",
       "      <td>0</td>\n",
       "      <td>More than 1</td>\n",
       "      <td>B</td>\n",
       "      <td>Silver</td>\n",
       "    </tr>\n",
       "    <tr>\n",
       "      <th>4</th>\n",
       "      <td>Female</td>\n",
       "      <td>Urban</td>\n",
       "      <td>High School</td>\n",
       "      <td>2L-5L</td>\n",
       "      <td>0</td>\n",
       "      <td>5</td>\n",
       "      <td>14059</td>\n",
       "      <td>More than 1</td>\n",
       "      <td>B</td>\n",
       "      <td>Silver</td>\n",
       "    </tr>\n",
       "  </tbody>\n",
       "</table>\n",
       "</div>"
      ],
      "text/plain": [
       "   gender   area qualification         income  marital_status  vintage  \\\n",
       "0  Female  Rural   High School         5L-10L               0        6   \n",
       "1  Female  Urban   High School          2L-5L               0        4   \n",
       "2    Male  Rural   High School         5L-10L               1        7   \n",
       "3  Female  Rural      Bachelor  More than 10L               1        2   \n",
       "4  Female  Urban   High School          2L-5L               0        5   \n",
       "\n",
       "   claim_amount num_policies policy type_of_policy  \n",
       "0          2134  More than 1      B         Silver  \n",
       "1          4102  More than 1      A       Platinum  \n",
       "2          2925  More than 1      B           Gold  \n",
       "3             0  More than 1      B         Silver  \n",
       "4         14059  More than 1      B         Silver  "
      ]
     },
     "execution_count": 24,
     "metadata": {},
     "output_type": "execute_result"
    }
   ],
   "source": [
    "B1"
   ]
  },
  {
   "cell_type": "code",
   "execution_count": 25,
   "id": "982f3e2e",
   "metadata": {},
   "outputs": [
    {
     "data": {
      "text/plain": [
       "gender            0\n",
       "area              0\n",
       "qualification     0\n",
       "income            0\n",
       "marital_status    0\n",
       "vintage           0\n",
       "claim_amount      0\n",
       "num_policies      0\n",
       "policy            0\n",
       "type_of_policy    0\n",
       "dtype: int64"
      ]
     },
     "execution_count": 25,
     "metadata": {},
     "output_type": "execute_result"
    }
   ],
   "source": [
    "B1.isna().sum()"
   ]
  },
  {
   "cell_type": "code",
   "execution_count": 26,
   "id": "082988d7",
   "metadata": {},
   "outputs": [],
   "source": [
    "cat = []\n",
    "con = []\n",
    "for i in B.columns:\n",
    "    if(B[i].dtypes == \"object\"):\n",
    "        cat.append(i)\n",
    "    else:\n",
    "        con.append(i)"
   ]
  },
  {
   "cell_type": "code",
   "execution_count": 27,
   "id": "1eb9a056",
   "metadata": {},
   "outputs": [
    {
     "data": {
      "text/plain": [
       "['gender',\n",
       " 'area',\n",
       " 'qualification',\n",
       " 'income',\n",
       " 'num_policies',\n",
       " 'policy',\n",
       " 'type_of_policy']"
      ]
     },
     "execution_count": 27,
     "metadata": {},
     "output_type": "execute_result"
    }
   ],
   "source": [
    "cat"
   ]
  },
  {
   "cell_type": "code",
   "execution_count": 28,
   "id": "f4fad583",
   "metadata": {},
   "outputs": [
    {
     "data": {
      "text/plain": [
       "['id', 'marital_status', 'vintage', 'claim_amount']"
      ]
     },
     "execution_count": 28,
     "metadata": {},
     "output_type": "execute_result"
    }
   ],
   "source": [
    "con"
   ]
  },
  {
   "cell_type": "code",
   "execution_count": 29,
   "id": "a85f3f8b",
   "metadata": {},
   "outputs": [],
   "source": [
    "con = B.drop(\"id\",axis=1)"
   ]
  },
  {
   "cell_type": "code",
   "execution_count": 30,
   "id": "a5941fd7",
   "metadata": {},
   "outputs": [],
   "source": [
    "B2 = con"
   ]
  },
  {
   "cell_type": "code",
   "execution_count": 31,
   "id": "c4173bd4",
   "metadata": {},
   "outputs": [],
   "source": [
    "B3 = pd.get_dummies(B[cat])"
   ]
  },
  {
   "cell_type": "code",
   "execution_count": 32,
   "id": "bbff271a",
   "metadata": {},
   "outputs": [],
   "source": [
    "B4 = B2.join(B3)"
   ]
  },
  {
   "cell_type": "code",
   "execution_count": 33,
   "id": "7f40337b",
   "metadata": {},
   "outputs": [],
   "source": [
    "Bnew = standardize(B4)"
   ]
  },
  {
   "cell_type": "markdown",
   "id": "015e128a",
   "metadata": {},
   "source": [
    "## Step 9 : Final Submission"
   ]
  },
  {
   "cell_type": "code",
   "execution_count": 34,
   "id": "585dce94",
   "metadata": {},
   "outputs": [],
   "source": [
    "ready_for_pred = Bnew[Xnew.columns]"
   ]
  },
  {
   "cell_type": "code",
   "execution_count": 35,
   "id": "32ebe764",
   "metadata": {},
   "outputs": [],
   "source": [
    "predicted_final = model.predict(ready_for_pred)"
   ]
  },
  {
   "cell_type": "code",
   "execution_count": 36,
   "id": "8b3b8877",
   "metadata": {},
   "outputs": [],
   "source": [
    "final_submission = pd.DataFrame([B.id,predicted_final]).T\n",
    "final_submission.columns = [\"id\",\"cltv\"]"
   ]
  },
  {
   "cell_type": "code",
   "execution_count": 37,
   "id": "931d8f00",
   "metadata": {},
   "outputs": [],
   "source": [
    "final_submission.to_csv(\"final_submission.csv\",index=False)"
   ]
  },
  {
   "cell_type": "code",
   "execution_count": 38,
   "id": "623d976e",
   "metadata": {},
   "outputs": [
    {
     "data": {
      "text/html": [
       "<div>\n",
       "<style scoped>\n",
       "    .dataframe tbody tr th:only-of-type {\n",
       "        vertical-align: middle;\n",
       "    }\n",
       "\n",
       "    .dataframe tbody tr th {\n",
       "        vertical-align: top;\n",
       "    }\n",
       "\n",
       "    .dataframe thead th {\n",
       "        text-align: right;\n",
       "    }\n",
       "</style>\n",
       "<table border=\"1\" class=\"dataframe\">\n",
       "  <thead>\n",
       "    <tr style=\"text-align: right;\">\n",
       "      <th></th>\n",
       "      <th>id</th>\n",
       "      <th>cltv</th>\n",
       "    </tr>\n",
       "  </thead>\n",
       "  <tbody>\n",
       "    <tr>\n",
       "      <th>0</th>\n",
       "      <td>89393.0</td>\n",
       "      <td>92158.530903</td>\n",
       "    </tr>\n",
       "    <tr>\n",
       "      <th>1</th>\n",
       "      <td>89394.0</td>\n",
       "      <td>124793.293210</td>\n",
       "    </tr>\n",
       "    <tr>\n",
       "      <th>2</th>\n",
       "      <td>89395.0</td>\n",
       "      <td>96556.913113</td>\n",
       "    </tr>\n",
       "    <tr>\n",
       "      <th>3</th>\n",
       "      <td>89396.0</td>\n",
       "      <td>89581.908301</td>\n",
       "    </tr>\n",
       "    <tr>\n",
       "      <th>4</th>\n",
       "      <td>89397.0</td>\n",
       "      <td>138675.622416</td>\n",
       "    </tr>\n",
       "    <tr>\n",
       "      <th>5</th>\n",
       "      <td>89398.0</td>\n",
       "      <td>110406.513150</td>\n",
       "    </tr>\n",
       "    <tr>\n",
       "      <th>6</th>\n",
       "      <td>89399.0</td>\n",
       "      <td>47853.632897</td>\n",
       "    </tr>\n",
       "    <tr>\n",
       "      <th>7</th>\n",
       "      <td>89400.0</td>\n",
       "      <td>115318.241036</td>\n",
       "    </tr>\n",
       "    <tr>\n",
       "      <th>8</th>\n",
       "      <td>89401.0</td>\n",
       "      <td>47852.718270</td>\n",
       "    </tr>\n",
       "    <tr>\n",
       "      <th>9</th>\n",
       "      <td>89402.0</td>\n",
       "      <td>153000.370635</td>\n",
       "    </tr>\n",
       "  </tbody>\n",
       "</table>\n",
       "</div>"
      ],
      "text/plain": [
       "        id           cltv\n",
       "0  89393.0   92158.530903\n",
       "1  89394.0  124793.293210\n",
       "2  89395.0   96556.913113\n",
       "3  89396.0   89581.908301\n",
       "4  89397.0  138675.622416\n",
       "5  89398.0  110406.513150\n",
       "6  89399.0   47853.632897\n",
       "7  89400.0  115318.241036\n",
       "8  89401.0   47852.718270\n",
       "9  89402.0  153000.370635"
      ]
     },
     "execution_count": 38,
     "metadata": {},
     "output_type": "execute_result"
    }
   ],
   "source": [
    "final_submission.head(10)"
   ]
  },
  {
   "cell_type": "markdown",
   "id": "a3d4e52e",
   "metadata": {},
   "source": [
    "# ----------------------------------------------------------------------------------------"
   ]
  },
  {
   "cell_type": "code",
   "execution_count": null,
   "id": "de6bccbe",
   "metadata": {},
   "outputs": [],
   "source": []
  }
 ],
 "metadata": {
  "kernelspec": {
   "display_name": "Python 3 (ipykernel)",
   "language": "python",
   "name": "python3"
  },
  "language_info": {
   "codemirror_mode": {
    "name": "ipython",
    "version": 3
   },
   "file_extension": ".py",
   "mimetype": "text/x-python",
   "name": "python",
   "nbconvert_exporter": "python",
   "pygments_lexer": "ipython3",
   "version": "3.8.13"
  }
 },
 "nbformat": 4,
 "nbformat_minor": 5
}
