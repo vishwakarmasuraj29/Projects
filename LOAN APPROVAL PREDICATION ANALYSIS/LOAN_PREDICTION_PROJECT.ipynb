{
 "cells": [
  {
   "cell_type": "markdown",
   "id": "59a0a5ac",
   "metadata": {},
   "source": [
    "# 1. Read Dataset"
   ]
  },
  {
   "cell_type": "code",
   "execution_count": 1,
   "id": "c4c1350d",
   "metadata": {},
   "outputs": [],
   "source": [
    "import pandas as pd\n",
    "A = pd.read_csv(\"C:/Users/LENOVO/Desktop/ML/loan_pred/training_set.csv\")\n",
    "\n",
    "from warnings import filterwarnings\n",
    "filterwarnings(\"ignore\")"
   ]
  },
  {
   "cell_type": "code",
   "execution_count": 2,
   "id": "fe8b7aa5",
   "metadata": {},
   "outputs": [
    {
     "data": {
      "text/html": [
       "<div>\n",
       "<style scoped>\n",
       "    .dataframe tbody tr th:only-of-type {\n",
       "        vertical-align: middle;\n",
       "    }\n",
       "\n",
       "    .dataframe tbody tr th {\n",
       "        vertical-align: top;\n",
       "    }\n",
       "\n",
       "    .dataframe thead th {\n",
       "        text-align: right;\n",
       "    }\n",
       "</style>\n",
       "<table border=\"1\" class=\"dataframe\">\n",
       "  <thead>\n",
       "    <tr style=\"text-align: right;\">\n",
       "      <th></th>\n",
       "      <th>Loan_ID</th>\n",
       "      <th>Gender</th>\n",
       "      <th>Married</th>\n",
       "      <th>Dependents</th>\n",
       "      <th>Education</th>\n",
       "      <th>Self_Employed</th>\n",
       "      <th>ApplicantIncome</th>\n",
       "      <th>CoapplicantIncome</th>\n",
       "      <th>LoanAmount</th>\n",
       "      <th>Loan_Amount_Term</th>\n",
       "      <th>Credit_History</th>\n",
       "      <th>Property_Area</th>\n",
       "      <th>Loan_Status</th>\n",
       "    </tr>\n",
       "  </thead>\n",
       "  <tbody>\n",
       "    <tr>\n",
       "      <th>0</th>\n",
       "      <td>LP001002</td>\n",
       "      <td>Male</td>\n",
       "      <td>No</td>\n",
       "      <td>0</td>\n",
       "      <td>Graduate</td>\n",
       "      <td>No</td>\n",
       "      <td>5849.0</td>\n",
       "      <td>0.0</td>\n",
       "      <td>NaN</td>\n",
       "      <td>360.0</td>\n",
       "      <td>1.0</td>\n",
       "      <td>Urban</td>\n",
       "      <td>Y</td>\n",
       "    </tr>\n",
       "    <tr>\n",
       "      <th>1</th>\n",
       "      <td>LP001003</td>\n",
       "      <td>Male</td>\n",
       "      <td>Yes</td>\n",
       "      <td>1</td>\n",
       "      <td>Graduate</td>\n",
       "      <td>No</td>\n",
       "      <td>NaN</td>\n",
       "      <td>1508.0</td>\n",
       "      <td>128.0</td>\n",
       "      <td>360.0</td>\n",
       "      <td>1.0</td>\n",
       "      <td>Rural</td>\n",
       "      <td>N</td>\n",
       "    </tr>\n",
       "    <tr>\n",
       "      <th>2</th>\n",
       "      <td>LP001005</td>\n",
       "      <td>Male</td>\n",
       "      <td>Yes</td>\n",
       "      <td>0</td>\n",
       "      <td>Graduate</td>\n",
       "      <td>Yes</td>\n",
       "      <td>3000.0</td>\n",
       "      <td>0.0</td>\n",
       "      <td>66.0</td>\n",
       "      <td>360.0</td>\n",
       "      <td>1.0</td>\n",
       "      <td>Urban</td>\n",
       "      <td>Y</td>\n",
       "    </tr>\n",
       "  </tbody>\n",
       "</table>\n",
       "</div>"
      ],
      "text/plain": [
       "    Loan_ID Gender Married Dependents Education Self_Employed  \\\n",
       "0  LP001002   Male      No          0  Graduate            No   \n",
       "1  LP001003   Male     Yes          1  Graduate            No   \n",
       "2  LP001005   Male     Yes          0  Graduate           Yes   \n",
       "\n",
       "   ApplicantIncome  CoapplicantIncome  LoanAmount  Loan_Amount_Term  \\\n",
       "0           5849.0                0.0         NaN             360.0   \n",
       "1              NaN             1508.0       128.0             360.0   \n",
       "2           3000.0                0.0        66.0             360.0   \n",
       "\n",
       "   Credit_History Property_Area Loan_Status  \n",
       "0             1.0         Urban           Y  \n",
       "1             1.0         Rural           N  \n",
       "2             1.0         Urban           Y  "
      ]
     },
     "execution_count": 2,
     "metadata": {},
     "output_type": "execute_result"
    }
   ],
   "source": [
    "A.head(3)"
   ]
  },
  {
   "cell_type": "code",
   "execution_count": 3,
   "id": "a94e3194",
   "metadata": {},
   "outputs": [
    {
     "data": {
      "text/plain": [
       "Loan_ID               0\n",
       "Gender               15\n",
       "Married               3\n",
       "Dependents           15\n",
       "Education             1\n",
       "Self_Employed        32\n",
       "ApplicantIncome       2\n",
       "CoapplicantIncome     1\n",
       "LoanAmount           22\n",
       "Loan_Amount_Term     14\n",
       "Credit_History       50\n",
       "Property_Area         0\n",
       "Loan_Status           0\n",
       "dtype: int64"
      ]
     },
     "execution_count": 3,
     "metadata": {},
     "output_type": "execute_result"
    }
   ],
   "source": [
    "A.isna().sum()"
   ]
  },
  {
   "cell_type": "markdown",
   "id": "ebc03683",
   "metadata": {},
   "source": [
    "# 2. Missing Data Treatment"
   ]
  },
  {
   "cell_type": "code",
   "execution_count": 4,
   "id": "fe7f9be9",
   "metadata": {},
   "outputs": [],
   "source": [
    "from PM8wd import replacer\n",
    "replacer(A)"
   ]
  },
  {
   "cell_type": "markdown",
   "id": "1d4af409",
   "metadata": {},
   "source": [
    "# 3. Define X and Y"
   ]
  },
  {
   "cell_type": "code",
   "execution_count": 5,
   "id": "a282db82",
   "metadata": {},
   "outputs": [],
   "source": [
    "Y = A[[\"Loan_Status\"]]\n",
    "X = A.drop(labels=[\"Loan_ID\",\"Loan_Status\"],axis=1)"
   ]
  },
  {
   "cell_type": "markdown",
   "id": "2860532c",
   "metadata": {},
   "source": [
    "# 4. EDA"
   ]
  },
  {
   "cell_type": "markdown",
   "id": "8769c054",
   "metadata": {},
   "source": [
    "Ycat,Xcon --> ANOVA\n",
    "Ycat,Xcat --> chisquare"
   ]
  },
  {
   "cell_type": "markdown",
   "id": "7a6cf40e",
   "metadata": {},
   "source": [
    "# 5. Divide Data to con & cat"
   ]
  },
  {
   "cell_type": "code",
   "execution_count": 6,
   "id": "66ebb029",
   "metadata": {},
   "outputs": [],
   "source": [
    "cat = []\n",
    "con = []\n",
    "for i in X.columns: \n",
    "    if(X[i].dtypes==\"object\"):\n",
    "        cat.append(i)\n",
    "    else:\n",
    "        con.append(i)"
   ]
  },
  {
   "cell_type": "code",
   "execution_count": 7,
   "id": "ed35816e",
   "metadata": {},
   "outputs": [
    {
     "name": "stdout",
     "output_type": "stream",
     "text": [
      "--------- Loan_Status vs ApplicantIncome ---------\n",
      "0.903\n",
      "--------- Loan_Status vs CoapplicantIncome ---------\n",
      "0.142\n",
      "--------- Loan_Status vs LoanAmount ---------\n",
      "0.368\n",
      "--------- Loan_Status vs Loan_Amount_Term ---------\n",
      "0.604\n",
      "--------- Loan_Status vs Credit_History ---------\n",
      "0.0\n"
     ]
    }
   ],
   "source": [
    "from PM8 import ANOVA,chisquare\n",
    "\n",
    "for i in con:\n",
    "    print(\"---------\",\"Loan_Status vs\",i,\"---------\")\n",
    "    print(ANOVA(A,\"Loan_Status\",i))"
   ]
  },
  {
   "cell_type": "code",
   "execution_count": 8,
   "id": "7fc409ac",
   "metadata": {},
   "outputs": [
    {
     "data": {
      "text/plain": [
       "<function PM8.chisquare(df, cat1, cat2)>"
      ]
     },
     "execution_count": 8,
     "metadata": {},
     "output_type": "execute_result"
    }
   ],
   "source": [
    "chisquare"
   ]
  },
  {
   "cell_type": "code",
   "execution_count": 9,
   "id": "e66b720d",
   "metadata": {},
   "outputs": [
    {
     "data": {
      "text/plain": [
       "<function PM8.ANOVA(df, cat, con)>"
      ]
     },
     "execution_count": 9,
     "metadata": {},
     "output_type": "execute_result"
    }
   ],
   "source": [
    "ANOVA"
   ]
  },
  {
   "cell_type": "code",
   "execution_count": 10,
   "id": "230c5e95",
   "metadata": {},
   "outputs": [
    {
     "name": "stdout",
     "output_type": "stream",
     "text": [
      "---------- Loan_Status vs Gender -----------\n",
      "0.7391461310869638\n",
      "---------- Loan_Status vs Married -----------\n",
      "0.029608580862582116\n",
      "---------- Loan_Status vs Dependents -----------\n",
      "0.3688663081366005\n",
      "---------- Loan_Status vs Education -----------\n",
      "0.04309962129357355\n",
      "---------- Loan_Status vs Self_Employed -----------\n",
      "1.0\n",
      "---------- Loan_Status vs Property_Area -----------\n",
      "0.0021360187811644915\n"
     ]
    }
   ],
   "source": [
    "for i in cat:\n",
    "    print(\"----------\",\"Loan_Status vs\",i,\"-----------\")\n",
    "    print(chisquare(A,\"Loan_Status\",i))"
   ]
  },
  {
   "cell_type": "markdown",
   "id": "4721bdd5",
   "metadata": {},
   "source": [
    "# 6. Outliers"
   ]
  },
  {
   "cell_type": "code",
   "execution_count": 11,
   "id": "d7a42c04",
   "metadata": {},
   "outputs": [],
   "source": [
    "from sklearn.preprocessing import StandardScaler\n",
    "ss = StandardScaler()"
   ]
  },
  {
   "cell_type": "code",
   "execution_count": 12,
   "id": "1b62dfb5",
   "metadata": {},
   "outputs": [
    {
     "data": {
      "text/html": [
       "<style>#sk-container-id-1 {color: black;background-color: white;}#sk-container-id-1 pre{padding: 0;}#sk-container-id-1 div.sk-toggleable {background-color: white;}#sk-container-id-1 label.sk-toggleable__label {cursor: pointer;display: block;width: 100%;margin-bottom: 0;padding: 0.3em;box-sizing: border-box;text-align: center;}#sk-container-id-1 label.sk-toggleable__label-arrow:before {content: \"▸\";float: left;margin-right: 0.25em;color: #696969;}#sk-container-id-1 label.sk-toggleable__label-arrow:hover:before {color: black;}#sk-container-id-1 div.sk-estimator:hover label.sk-toggleable__label-arrow:before {color: black;}#sk-container-id-1 div.sk-toggleable__content {max-height: 0;max-width: 0;overflow: hidden;text-align: left;background-color: #f0f8ff;}#sk-container-id-1 div.sk-toggleable__content pre {margin: 0.2em;color: black;border-radius: 0.25em;background-color: #f0f8ff;}#sk-container-id-1 input.sk-toggleable__control:checked~div.sk-toggleable__content {max-height: 200px;max-width: 100%;overflow: auto;}#sk-container-id-1 input.sk-toggleable__control:checked~label.sk-toggleable__label-arrow:before {content: \"▾\";}#sk-container-id-1 div.sk-estimator input.sk-toggleable__control:checked~label.sk-toggleable__label {background-color: #d4ebff;}#sk-container-id-1 div.sk-label input.sk-toggleable__control:checked~label.sk-toggleable__label {background-color: #d4ebff;}#sk-container-id-1 input.sk-hidden--visually {border: 0;clip: rect(1px 1px 1px 1px);clip: rect(1px, 1px, 1px, 1px);height: 1px;margin: -1px;overflow: hidden;padding: 0;position: absolute;width: 1px;}#sk-container-id-1 div.sk-estimator {font-family: monospace;background-color: #f0f8ff;border: 1px dotted black;border-radius: 0.25em;box-sizing: border-box;margin-bottom: 0.5em;}#sk-container-id-1 div.sk-estimator:hover {background-color: #d4ebff;}#sk-container-id-1 div.sk-parallel-item::after {content: \"\";width: 100%;border-bottom: 1px solid gray;flex-grow: 1;}#sk-container-id-1 div.sk-label:hover label.sk-toggleable__label {background-color: #d4ebff;}#sk-container-id-1 div.sk-serial::before {content: \"\";position: absolute;border-left: 1px solid gray;box-sizing: border-box;top: 0;bottom: 0;left: 50%;z-index: 0;}#sk-container-id-1 div.sk-serial {display: flex;flex-direction: column;align-items: center;background-color: white;padding-right: 0.2em;padding-left: 0.2em;position: relative;}#sk-container-id-1 div.sk-item {position: relative;z-index: 1;}#sk-container-id-1 div.sk-parallel {display: flex;align-items: stretch;justify-content: center;background-color: white;position: relative;}#sk-container-id-1 div.sk-item::before, #sk-container-id-1 div.sk-parallel-item::before {content: \"\";position: absolute;border-left: 1px solid gray;box-sizing: border-box;top: 0;bottom: 0;left: 50%;z-index: -1;}#sk-container-id-1 div.sk-parallel-item {display: flex;flex-direction: column;z-index: 1;position: relative;background-color: white;}#sk-container-id-1 div.sk-parallel-item:first-child::after {align-self: flex-end;width: 50%;}#sk-container-id-1 div.sk-parallel-item:last-child::after {align-self: flex-start;width: 50%;}#sk-container-id-1 div.sk-parallel-item:only-child::after {width: 0;}#sk-container-id-1 div.sk-dashed-wrapped {border: 1px dashed gray;margin: 0 0.4em 0.5em 0.4em;box-sizing: border-box;padding-bottom: 0.4em;background-color: white;}#sk-container-id-1 div.sk-label label {font-family: monospace;font-weight: bold;display: inline-block;line-height: 1.2em;}#sk-container-id-1 div.sk-label-container {text-align: center;}#sk-container-id-1 div.sk-container {/* jupyter's `normalize.less` sets `[hidden] { display: none; }` but bootstrap.min.css set `[hidden] { display: none !important; }` so we also need the `!important` here to be able to override the default hidden behavior on the sphinx rendered scikit-learn.org. See: https://github.com/scikit-learn/scikit-learn/issues/21755 */display: inline-block !important;position: relative;}#sk-container-id-1 div.sk-text-repr-fallback {display: none;}</style><div id=\"sk-container-id-1\" class=\"sk-top-container\"><div class=\"sk-text-repr-fallback\"><pre>StandardScaler()</pre><b>In a Jupyter environment, please rerun this cell to show the HTML representation or trust the notebook. <br />On GitHub, the HTML representation is unable to render, please try loading this page with nbviewer.org.</b></div><div class=\"sk-container\" hidden><div class=\"sk-item\"><div class=\"sk-estimator sk-toggleable\"><input class=\"sk-toggleable__control sk-hidden--visually\" id=\"sk-estimator-id-1\" type=\"checkbox\" checked><label for=\"sk-estimator-id-1\" class=\"sk-toggleable__label sk-toggleable__label-arrow\">StandardScaler</label><div class=\"sk-toggleable__content\"><pre>StandardScaler()</pre></div></div></div></div></div>"
      ],
      "text/plain": [
       "StandardScaler()"
      ]
     },
     "execution_count": 12,
     "metadata": {},
     "output_type": "execute_result"
    }
   ],
   "source": [
    "ss.fit(X[con])"
   ]
  },
  {
   "cell_type": "code",
   "execution_count": 13,
   "id": "85aa31b4",
   "metadata": {},
   "outputs": [],
   "source": [
    "X1 = pd.DataFrame(ss.transform(X[con]),columns=con)"
   ]
  },
  {
   "cell_type": "code",
   "execution_count": 14,
   "id": "eb82d0c7",
   "metadata": {},
   "outputs": [
    {
     "data": {
      "text/html": [
       "<div>\n",
       "<style scoped>\n",
       "    .dataframe tbody tr th:only-of-type {\n",
       "        vertical-align: middle;\n",
       "    }\n",
       "\n",
       "    .dataframe tbody tr th {\n",
       "        vertical-align: top;\n",
       "    }\n",
       "\n",
       "    .dataframe thead th {\n",
       "        text-align: right;\n",
       "    }\n",
       "</style>\n",
       "<table border=\"1\" class=\"dataframe\">\n",
       "  <thead>\n",
       "    <tr style=\"text-align: right;\">\n",
       "      <th></th>\n",
       "      <th>ApplicantIncome</th>\n",
       "      <th>CoapplicantIncome</th>\n",
       "      <th>LoanAmount</th>\n",
       "      <th>Loan_Amount_Term</th>\n",
       "      <th>Credit_History</th>\n",
       "    </tr>\n",
       "  </thead>\n",
       "  <tbody>\n",
       "    <tr>\n",
       "      <th>0</th>\n",
       "      <td>0.072651</td>\n",
       "      <td>-0.554368</td>\n",
       "      <td>0.000000</td>\n",
       "      <td>0.279851</td>\n",
       "      <td>0.45164</td>\n",
       "    </tr>\n",
       "    <tr>\n",
       "      <th>1</th>\n",
       "      <td>0.000000</td>\n",
       "      <td>-0.038610</td>\n",
       "      <td>-0.219273</td>\n",
       "      <td>0.279851</td>\n",
       "      <td>0.45164</td>\n",
       "    </tr>\n",
       "  </tbody>\n",
       "</table>\n",
       "</div>"
      ],
      "text/plain": [
       "   ApplicantIncome  CoapplicantIncome  LoanAmount  Loan_Amount_Term  \\\n",
       "0         0.072651          -0.554368    0.000000          0.279851   \n",
       "1         0.000000          -0.038610   -0.219273          0.279851   \n",
       "\n",
       "   Credit_History  \n",
       "0         0.45164  \n",
       "1         0.45164  "
      ]
     },
     "execution_count": 14,
     "metadata": {},
     "output_type": "execute_result"
    }
   ],
   "source": [
    "X1.head(2)"
   ]
  },
  {
   "cell_type": "code",
   "execution_count": 15,
   "id": "44e81fa6",
   "metadata": {},
   "outputs": [],
   "source": [
    "from PM8wd import outliers\n",
    "OL = outliers(X1)"
   ]
  },
  {
   "cell_type": "code",
   "execution_count": 16,
   "id": "dbf75899",
   "metadata": {},
   "outputs": [],
   "source": [
    "X = X.drop(index=OL,axis=0)\n",
    "Y = Y.drop(index=OL,axis=0)"
   ]
  },
  {
   "cell_type": "code",
   "execution_count": 17,
   "id": "a0f94983",
   "metadata": {},
   "outputs": [],
   "source": [
    "X.index = range(0,X.shape[0])\n",
    "Y.index = range(0,Y.shape[0])"
   ]
  },
  {
   "cell_type": "markdown",
   "id": "00b168bd",
   "metadata": {},
   "source": [
    "# 7. Preprocessing"
   ]
  },
  {
   "cell_type": "code",
   "execution_count": 18,
   "id": "72ce2010",
   "metadata": {},
   "outputs": [],
   "source": [
    "from PM8wd import preprocessing\n",
    "Xnew = preprocessing(X)"
   ]
  },
  {
   "cell_type": "code",
   "execution_count": 19,
   "id": "14aa5cbc",
   "metadata": {},
   "outputs": [
    {
     "data": {
      "text/html": [
       "<div>\n",
       "<style scoped>\n",
       "    .dataframe tbody tr th:only-of-type {\n",
       "        vertical-align: middle;\n",
       "    }\n",
       "\n",
       "    .dataframe tbody tr th {\n",
       "        vertical-align: top;\n",
       "    }\n",
       "\n",
       "    .dataframe thead th {\n",
       "        text-align: right;\n",
       "    }\n",
       "</style>\n",
       "<table border=\"1\" class=\"dataframe\">\n",
       "  <thead>\n",
       "    <tr style=\"text-align: right;\">\n",
       "      <th></th>\n",
       "      <th>ApplicantIncome</th>\n",
       "      <th>CoapplicantIncome</th>\n",
       "      <th>LoanAmount</th>\n",
       "      <th>Loan_Amount_Term</th>\n",
       "      <th>Credit_History</th>\n",
       "      <th>Gender_Female</th>\n",
       "      <th>Gender_Male</th>\n",
       "      <th>Married_No</th>\n",
       "      <th>Married_Yes</th>\n",
       "      <th>Dependents_0</th>\n",
       "      <th>Dependents_1</th>\n",
       "      <th>Dependents_2</th>\n",
       "      <th>Dependents_3+</th>\n",
       "      <th>Education_Graduate</th>\n",
       "      <th>Education_Not Graduate</th>\n",
       "      <th>Self_Employed_No</th>\n",
       "      <th>Self_Employed_Yes</th>\n",
       "      <th>Property_Area_Rural</th>\n",
       "      <th>Property_Area_Semiurban</th>\n",
       "      <th>Property_Area_Urban</th>\n",
       "    </tr>\n",
       "  </thead>\n",
       "  <tbody>\n",
       "    <tr>\n",
       "      <th>0</th>\n",
       "      <td>0.398479</td>\n",
       "      <td>-0.860843</td>\n",
       "      <td>0.184585</td>\n",
       "      <td>0.239408</td>\n",
       "      <td>0.456461</td>\n",
       "      <td>0</td>\n",
       "      <td>1</td>\n",
       "      <td>1</td>\n",
       "      <td>0</td>\n",
       "      <td>1</td>\n",
       "      <td>0</td>\n",
       "      <td>0</td>\n",
       "      <td>0</td>\n",
       "      <td>1</td>\n",
       "      <td>0</td>\n",
       "      <td>1</td>\n",
       "      <td>0</td>\n",
       "      <td>0</td>\n",
       "      <td>0</td>\n",
       "      <td>1</td>\n",
       "    </tr>\n",
       "    <tr>\n",
       "      <th>1</th>\n",
       "      <td>0.248823</td>\n",
       "      <td>0.053073</td>\n",
       "      <td>-0.143355</td>\n",
       "      <td>0.239408</td>\n",
       "      <td>0.456461</td>\n",
       "      <td>0</td>\n",
       "      <td>1</td>\n",
       "      <td>0</td>\n",
       "      <td>1</td>\n",
       "      <td>0</td>\n",
       "      <td>1</td>\n",
       "      <td>0</td>\n",
       "      <td>0</td>\n",
       "      <td>1</td>\n",
       "      <td>0</td>\n",
       "      <td>1</td>\n",
       "      <td>0</td>\n",
       "      <td>1</td>\n",
       "      <td>0</td>\n",
       "      <td>0</td>\n",
       "    </tr>\n",
       "    <tr>\n",
       "      <th>2</th>\n",
       "      <td>-0.562989</td>\n",
       "      <td>-0.860843</td>\n",
       "      <td>-1.247642</td>\n",
       "      <td>0.239408</td>\n",
       "      <td>0.456461</td>\n",
       "      <td>0</td>\n",
       "      <td>1</td>\n",
       "      <td>0</td>\n",
       "      <td>1</td>\n",
       "      <td>1</td>\n",
       "      <td>0</td>\n",
       "      <td>0</td>\n",
       "      <td>0</td>\n",
       "      <td>1</td>\n",
       "      <td>0</td>\n",
       "      <td>0</td>\n",
       "      <td>1</td>\n",
       "      <td>0</td>\n",
       "      <td>0</td>\n",
       "      <td>1</td>\n",
       "    </tr>\n",
       "    <tr>\n",
       "      <th>3</th>\n",
       "      <td>-0.703717</td>\n",
       "      <td>0.568211</td>\n",
       "      <td>-0.285844</td>\n",
       "      <td>0.239408</td>\n",
       "      <td>0.456461</td>\n",
       "      <td>0</td>\n",
       "      <td>1</td>\n",
       "      <td>0</td>\n",
       "      <td>1</td>\n",
       "      <td>1</td>\n",
       "      <td>0</td>\n",
       "      <td>0</td>\n",
       "      <td>0</td>\n",
       "      <td>0</td>\n",
       "      <td>1</td>\n",
       "      <td>1</td>\n",
       "      <td>0</td>\n",
       "      <td>0</td>\n",
       "      <td>0</td>\n",
       "      <td>1</td>\n",
       "    </tr>\n",
       "    <tr>\n",
       "      <th>4</th>\n",
       "      <td>0.449438</td>\n",
       "      <td>-0.860843</td>\n",
       "      <td>0.088189</td>\n",
       "      <td>0.239408</td>\n",
       "      <td>0.456461</td>\n",
       "      <td>0</td>\n",
       "      <td>1</td>\n",
       "      <td>1</td>\n",
       "      <td>0</td>\n",
       "      <td>1</td>\n",
       "      <td>0</td>\n",
       "      <td>0</td>\n",
       "      <td>0</td>\n",
       "      <td>1</td>\n",
       "      <td>0</td>\n",
       "      <td>1</td>\n",
       "      <td>0</td>\n",
       "      <td>0</td>\n",
       "      <td>0</td>\n",
       "      <td>1</td>\n",
       "    </tr>\n",
       "    <tr>\n",
       "      <th>...</th>\n",
       "      <td>...</td>\n",
       "      <td>...</td>\n",
       "      <td>...</td>\n",
       "      <td>...</td>\n",
       "      <td>...</td>\n",
       "      <td>...</td>\n",
       "      <td>...</td>\n",
       "      <td>...</td>\n",
       "      <td>...</td>\n",
       "      <td>...</td>\n",
       "      <td>...</td>\n",
       "      <td>...</td>\n",
       "      <td>...</td>\n",
       "      <td>...</td>\n",
       "      <td>...</td>\n",
       "      <td>...</td>\n",
       "      <td>...</td>\n",
       "      <td>...</td>\n",
       "      <td>...</td>\n",
       "      <td>...</td>\n",
       "    </tr>\n",
       "    <tr>\n",
       "      <th>572</th>\n",
       "      <td>-0.596737</td>\n",
       "      <td>-0.860843</td>\n",
       "      <td>-1.158587</td>\n",
       "      <td>0.239408</td>\n",
       "      <td>0.456461</td>\n",
       "      <td>1</td>\n",
       "      <td>0</td>\n",
       "      <td>1</td>\n",
       "      <td>0</td>\n",
       "      <td>1</td>\n",
       "      <td>0</td>\n",
       "      <td>0</td>\n",
       "      <td>0</td>\n",
       "      <td>1</td>\n",
       "      <td>0</td>\n",
       "      <td>1</td>\n",
       "      <td>0</td>\n",
       "      <td>1</td>\n",
       "      <td>0</td>\n",
       "      <td>0</td>\n",
       "    </tr>\n",
       "    <tr>\n",
       "      <th>573</th>\n",
       "      <td>-0.189741</td>\n",
       "      <td>-0.860843</td>\n",
       "      <td>-1.710730</td>\n",
       "      <td>-3.237229</td>\n",
       "      <td>0.456461</td>\n",
       "      <td>0</td>\n",
       "      <td>1</td>\n",
       "      <td>0</td>\n",
       "      <td>1</td>\n",
       "      <td>0</td>\n",
       "      <td>0</td>\n",
       "      <td>0</td>\n",
       "      <td>1</td>\n",
       "      <td>1</td>\n",
       "      <td>0</td>\n",
       "      <td>1</td>\n",
       "      <td>0</td>\n",
       "      <td>1</td>\n",
       "      <td>0</td>\n",
       "      <td>0</td>\n",
       "    </tr>\n",
       "    <tr>\n",
       "      <th>574</th>\n",
       "      <td>1.148688</td>\n",
       "      <td>-0.715392</td>\n",
       "      <td>2.083030</td>\n",
       "      <td>0.239408</td>\n",
       "      <td>0.456461</td>\n",
       "      <td>0</td>\n",
       "      <td>1</td>\n",
       "      <td>0</td>\n",
       "      <td>1</td>\n",
       "      <td>0</td>\n",
       "      <td>1</td>\n",
       "      <td>0</td>\n",
       "      <td>0</td>\n",
       "      <td>1</td>\n",
       "      <td>0</td>\n",
       "      <td>1</td>\n",
       "      <td>0</td>\n",
       "      <td>0</td>\n",
       "      <td>0</td>\n",
       "      <td>1</td>\n",
       "    </tr>\n",
       "    <tr>\n",
       "      <th>575</th>\n",
       "      <td>0.983662</td>\n",
       "      <td>-0.860843</td>\n",
       "      <td>0.907499</td>\n",
       "      <td>0.239408</td>\n",
       "      <td>0.456461</td>\n",
       "      <td>0</td>\n",
       "      <td>1</td>\n",
       "      <td>0</td>\n",
       "      <td>1</td>\n",
       "      <td>0</td>\n",
       "      <td>0</td>\n",
       "      <td>1</td>\n",
       "      <td>0</td>\n",
       "      <td>1</td>\n",
       "      <td>0</td>\n",
       "      <td>1</td>\n",
       "      <td>0</td>\n",
       "      <td>0</td>\n",
       "      <td>0</td>\n",
       "      <td>1</td>\n",
       "    </tr>\n",
       "    <tr>\n",
       "      <th>576</th>\n",
       "      <td>-0.028765</td>\n",
       "      <td>-0.860843</td>\n",
       "      <td>-0.054300</td>\n",
       "      <td>0.239408</td>\n",
       "      <td>-2.372488</td>\n",
       "      <td>1</td>\n",
       "      <td>0</td>\n",
       "      <td>1</td>\n",
       "      <td>0</td>\n",
       "      <td>1</td>\n",
       "      <td>0</td>\n",
       "      <td>0</td>\n",
       "      <td>0</td>\n",
       "      <td>1</td>\n",
       "      <td>0</td>\n",
       "      <td>0</td>\n",
       "      <td>1</td>\n",
       "      <td>0</td>\n",
       "      <td>1</td>\n",
       "      <td>0</td>\n",
       "    </tr>\n",
       "  </tbody>\n",
       "</table>\n",
       "<p>577 rows × 20 columns</p>\n",
       "</div>"
      ],
      "text/plain": [
       "     ApplicantIncome  CoapplicantIncome  LoanAmount  Loan_Amount_Term  \\\n",
       "0           0.398479          -0.860843    0.184585          0.239408   \n",
       "1           0.248823           0.053073   -0.143355          0.239408   \n",
       "2          -0.562989          -0.860843   -1.247642          0.239408   \n",
       "3          -0.703717           0.568211   -0.285844          0.239408   \n",
       "4           0.449438          -0.860843    0.088189          0.239408   \n",
       "..               ...                ...         ...               ...   \n",
       "572        -0.596737          -0.860843   -1.158587          0.239408   \n",
       "573        -0.189741          -0.860843   -1.710730         -3.237229   \n",
       "574         1.148688          -0.715392    2.083030          0.239408   \n",
       "575         0.983662          -0.860843    0.907499          0.239408   \n",
       "576        -0.028765          -0.860843   -0.054300          0.239408   \n",
       "\n",
       "     Credit_History  Gender_Female  Gender_Male  Married_No  Married_Yes  \\\n",
       "0          0.456461              0            1           1            0   \n",
       "1          0.456461              0            1           0            1   \n",
       "2          0.456461              0            1           0            1   \n",
       "3          0.456461              0            1           0            1   \n",
       "4          0.456461              0            1           1            0   \n",
       "..              ...            ...          ...         ...          ...   \n",
       "572        0.456461              1            0           1            0   \n",
       "573        0.456461              0            1           0            1   \n",
       "574        0.456461              0            1           0            1   \n",
       "575        0.456461              0            1           0            1   \n",
       "576       -2.372488              1            0           1            0   \n",
       "\n",
       "     Dependents_0  Dependents_1  Dependents_2  Dependents_3+  \\\n",
       "0               1             0             0              0   \n",
       "1               0             1             0              0   \n",
       "2               1             0             0              0   \n",
       "3               1             0             0              0   \n",
       "4               1             0             0              0   \n",
       "..            ...           ...           ...            ...   \n",
       "572             1             0             0              0   \n",
       "573             0             0             0              1   \n",
       "574             0             1             0              0   \n",
       "575             0             0             1              0   \n",
       "576             1             0             0              0   \n",
       "\n",
       "     Education_Graduate  Education_Not Graduate  Self_Employed_No  \\\n",
       "0                     1                       0                 1   \n",
       "1                     1                       0                 1   \n",
       "2                     1                       0                 0   \n",
       "3                     0                       1                 1   \n",
       "4                     1                       0                 1   \n",
       "..                  ...                     ...               ...   \n",
       "572                   1                       0                 1   \n",
       "573                   1                       0                 1   \n",
       "574                   1                       0                 1   \n",
       "575                   1                       0                 1   \n",
       "576                   1                       0                 0   \n",
       "\n",
       "     Self_Employed_Yes  Property_Area_Rural  Property_Area_Semiurban  \\\n",
       "0                    0                    0                        0   \n",
       "1                    0                    1                        0   \n",
       "2                    1                    0                        0   \n",
       "3                    0                    0                        0   \n",
       "4                    0                    0                        0   \n",
       "..                 ...                  ...                      ...   \n",
       "572                  0                    1                        0   \n",
       "573                  0                    1                        0   \n",
       "574                  0                    0                        0   \n",
       "575                  0                    0                        0   \n",
       "576                  1                    0                        1   \n",
       "\n",
       "     Property_Area_Urban  \n",
       "0                      1  \n",
       "1                      0  \n",
       "2                      1  \n",
       "3                      1  \n",
       "4                      1  \n",
       "..                   ...  \n",
       "572                    0  \n",
       "573                    0  \n",
       "574                    1  \n",
       "575                    1  \n",
       "576                    0  \n",
       "\n",
       "[577 rows x 20 columns]"
      ]
     },
     "execution_count": 19,
     "metadata": {},
     "output_type": "execute_result"
    }
   ],
   "source": [
    "Xnew"
   ]
  },
  {
   "cell_type": "code",
   "execution_count": 20,
   "id": "e1a9c861",
   "metadata": {},
   "outputs": [],
   "source": [
    "from sklearn.model_selection import train_test_split\n",
    "xtrain,xtest,ytrain,ytest = train_test_split(Xnew,Y,test_size=0.2,random_state=21)\n"
   ]
  },
  {
   "cell_type": "code",
   "execution_count": 21,
   "id": "0177ffb7",
   "metadata": {},
   "outputs": [],
   "source": [
    "from sklearn.tree import DecisionTreeClassifier\n",
    "dtc = DecisionTreeClassifier(criterion=\"entropy\",random_state=21,max_depth=2)\n",
    "\n",
    "model = dtc.fit(xtrain,ytrain)\n",
    "pred_tr = model.predict(xtrain)\n",
    "pred_ts = model.predict(xtest)\n",
    "\n",
    "from sklearn.metrics import accuracy_score\n",
    "tr_acc = accuracy_score(ytrain,pred_tr)\n",
    "ts_acc = accuracy_score(ytest,pred_ts)"
   ]
  },
  {
   "cell_type": "code",
   "execution_count": 22,
   "id": "48c9ea26",
   "metadata": {},
   "outputs": [
    {
     "data": {
      "text/plain": [
       "0.8134490238611713"
      ]
     },
     "execution_count": 22,
     "metadata": {},
     "output_type": "execute_result"
    }
   ],
   "source": [
    "tr_acc"
   ]
  },
  {
   "cell_type": "code",
   "execution_count": 23,
   "id": "388e5f5a",
   "metadata": {},
   "outputs": [
    {
     "data": {
      "text/plain": [
       "0.8362068965517241"
      ]
     },
     "execution_count": 23,
     "metadata": {},
     "output_type": "execute_result"
    }
   ],
   "source": [
    "ts_acc"
   ]
  },
  {
   "cell_type": "code",
   "execution_count": 24,
   "id": "17d7e21a",
   "metadata": {},
   "outputs": [
    {
     "data": {
      "text/plain": [
       "(577, 20)"
      ]
     },
     "execution_count": 24,
     "metadata": {},
     "output_type": "execute_result"
    }
   ],
   "source": [
    "Xnew.shape"
   ]
  },
  {
   "cell_type": "markdown",
   "id": "ec1a69a2",
   "metadata": {},
   "source": [
    "# 8. Tree Model"
   ]
  },
  {
   "cell_type": "code",
   "execution_count": 25,
   "id": "e8dbcf74",
   "metadata": {},
   "outputs": [],
   "source": [
    "X = X[[\"Credit_History\",\"CoapplicantIncome\",\"Property_Area\",\"Education\",\"Married\"]]"
   ]
  },
  {
   "cell_type": "code",
   "execution_count": 26,
   "id": "89d4708c",
   "metadata": {},
   "outputs": [],
   "source": [
    "Xnew = preprocessing(X)"
   ]
  },
  {
   "cell_type": "code",
   "execution_count": 27,
   "id": "e4f3f07b",
   "metadata": {},
   "outputs": [],
   "source": [
    "from sklearn.model_selection import train_test_split\n",
    "xtrain,xtest,ytrain,ytest = train_test_split(Xnew,Y,test_size=0.2,random_state=21)"
   ]
  },
  {
   "cell_type": "code",
   "execution_count": 28,
   "id": "25922db5",
   "metadata": {},
   "outputs": [
    {
     "data": {
      "text/plain": [
       "(577, 9)"
      ]
     },
     "execution_count": 28,
     "metadata": {},
     "output_type": "execute_result"
    }
   ],
   "source": [
    "Xnew.shape"
   ]
  },
  {
   "cell_type": "code",
   "execution_count": 29,
   "id": "36424665",
   "metadata": {},
   "outputs": [],
   "source": [
    "#Xnew.head(3)"
   ]
  },
  {
   "cell_type": "code",
   "execution_count": 30,
   "id": "3e8efef8",
   "metadata": {},
   "outputs": [],
   "source": [
    "from sklearn.tree import DecisionTreeClassifier\n",
    "dtc = DecisionTreeClassifier(criterion=\"entropy\",random_state=21,max_depth=2)\n",
    "\n",
    "model = dtc.fit(xtrain,ytrain)\n",
    "pred_tr = model.predict(xtrain)\n",
    "pred_ts = model.predict(xtest)\n",
    "\n",
    "from sklearn.metrics import accuracy_score\n",
    "tr_acc = accuracy_score(ytrain,pred_tr)\n",
    "ts_acc = accuracy_score(ytest,pred_ts)"
   ]
  },
  {
   "cell_type": "code",
   "execution_count": 31,
   "id": "9c0feedc",
   "metadata": {},
   "outputs": [
    {
     "data": {
      "text/plain": [
       "0.8134490238611713"
      ]
     },
     "execution_count": 31,
     "metadata": {},
     "output_type": "execute_result"
    }
   ],
   "source": [
    "tr_acc"
   ]
  },
  {
   "cell_type": "code",
   "execution_count": 32,
   "id": "df2da186",
   "metadata": {},
   "outputs": [
    {
     "data": {
      "text/plain": [
       "0.8362068965517241"
      ]
     },
     "execution_count": 32,
     "metadata": {},
     "output_type": "execute_result"
    }
   ],
   "source": [
    "ts_acc"
   ]
  },
  {
   "cell_type": "code",
   "execution_count": 33,
   "id": "f085ca43",
   "metadata": {},
   "outputs": [],
   "source": [
    "from sklearn.ensemble import RandomForestClassifier\n",
    "rfc = RandomForestClassifier(criterion=\"entropy\",random_state=21,max_depth=3)\n",
    "model = rfc.fit(xtrain,ytrain)\n",
    "\n",
    "pred_tr = model.predict(xtrain)\n",
    "pred_ts = model.predict(xtest)\n",
    "\n",
    "from sklearn.metrics import accuracy_score\n",
    "tr_acc = accuracy_score(ytrain,pred_tr)\n",
    "ts_acc = accuracy_score(ytest,pred_ts)"
   ]
  },
  {
   "cell_type": "code",
   "execution_count": 34,
   "id": "4a8ba0d0",
   "metadata": {},
   "outputs": [
    {
     "data": {
      "text/plain": [
       "0.8134490238611713"
      ]
     },
     "execution_count": 34,
     "metadata": {},
     "output_type": "execute_result"
    }
   ],
   "source": [
    "tr_acc"
   ]
  },
  {
   "cell_type": "code",
   "execution_count": 35,
   "id": "32b0dbc0",
   "metadata": {},
   "outputs": [
    {
     "data": {
      "text/plain": [
       "0.8448275862068966"
      ]
     },
     "execution_count": 35,
     "metadata": {},
     "output_type": "execute_result"
    }
   ],
   "source": [
    "ts_acc"
   ]
  },
  {
   "cell_type": "markdown",
   "id": "50e22e91",
   "metadata": {},
   "source": [
    "# 9. Grid Search_CV"
   ]
  },
  {
   "cell_type": "code",
   "execution_count": 36,
   "id": "fd078508",
   "metadata": {},
   "outputs": [],
   "source": [
    "tuning_grid = {\"max_depth\":range(2,5,1),\"criterion\":[\"gini\",\"entropy\"],\"n_estimators\":range(20,30,1)}"
   ]
  },
  {
   "cell_type": "code",
   "execution_count": 37,
   "id": "d9fb0ef0",
   "metadata": {},
   "outputs": [],
   "source": [
    "tuning_grid = {\"max_depth\":range(2,5,1),\"criterion\":[\"gini\",\"entropy\"],\"n_estimators\":range(20,30,1)}"
   ]
  },
  {
   "cell_type": "code",
   "execution_count": 38,
   "id": "503bef57",
   "metadata": {},
   "outputs": [],
   "source": [
    "from sklearn.model_selection import GridSearchCV\n",
    "rfc = RandomForestClassifier(random_state=21)\n",
    "cv = GridSearchCV(rfc,tuning_grid,scoring=\"accuracy\",cv=4)\n",
    "\n",
    "cvmodel = cv.fit(xtrain,ytrain)"
   ]
  },
  {
   "cell_type": "code",
   "execution_count": 39,
   "id": "f67cd121",
   "metadata": {},
   "outputs": [
    {
     "data": {
      "text/plain": [
       "{'criterion': 'gini', 'max_depth': 2, 'n_estimators': 20}"
      ]
     },
     "execution_count": 39,
     "metadata": {},
     "output_type": "execute_result"
    }
   ],
   "source": [
    "cvmodel.best_params_"
   ]
  },
  {
   "cell_type": "code",
   "execution_count": 40,
   "id": "2210821c",
   "metadata": {},
   "outputs": [],
   "source": [
    "model = rfc.fit(xtrain,ytrain)\n",
    "pred_tr = model.predict(xtrain)\n",
    "pred_ts = model.predict(xtest)\n",
    "\n",
    "from sklearn.metrics import accuracy_score\n",
    "tr_acc = accuracy_score(ytrain,pred_tr)\n",
    "ts_acc = accuracy_score(ytest,pred_ts)"
   ]
  },
  {
   "cell_type": "code",
   "execution_count": 41,
   "id": "280ead7f",
   "metadata": {},
   "outputs": [
    {
     "data": {
      "text/plain": [
       "0.9023861171366594"
      ]
     },
     "execution_count": 41,
     "metadata": {},
     "output_type": "execute_result"
    }
   ],
   "source": [
    "tr_acc"
   ]
  },
  {
   "cell_type": "code",
   "execution_count": 42,
   "id": "95f30602",
   "metadata": {},
   "outputs": [
    {
     "data": {
      "text/plain": [
       "0.7844827586206896"
      ]
     },
     "execution_count": 42,
     "metadata": {},
     "output_type": "execute_result"
    }
   ],
   "source": [
    "ts_acc"
   ]
  },
  {
   "cell_type": "markdown",
   "id": "dd03714f",
   "metadata": {},
   "source": [
    "# 10. Getting Data ready for prediction"
   ]
  },
  {
   "cell_type": "code",
   "execution_count": 43,
   "id": "93699ee2",
   "metadata": {},
   "outputs": [],
   "source": [
    "B = pd.read_csv(\"C:/Users/LENOVO/Desktop/ML/loan_pred/testing_set.csv\")"
   ]
  },
  {
   "cell_type": "code",
   "execution_count": 44,
   "id": "d491863e",
   "metadata": {},
   "outputs": [],
   "source": [
    "B1 = B[X.columns].head()"
   ]
  },
  {
   "cell_type": "code",
   "execution_count": 45,
   "id": "99a2e4e8",
   "metadata": {},
   "outputs": [
    {
     "data": {
      "text/html": [
       "<div>\n",
       "<style scoped>\n",
       "    .dataframe tbody tr th:only-of-type {\n",
       "        vertical-align: middle;\n",
       "    }\n",
       "\n",
       "    .dataframe tbody tr th {\n",
       "        vertical-align: top;\n",
       "    }\n",
       "\n",
       "    .dataframe thead th {\n",
       "        text-align: right;\n",
       "    }\n",
       "</style>\n",
       "<table border=\"1\" class=\"dataframe\">\n",
       "  <thead>\n",
       "    <tr style=\"text-align: right;\">\n",
       "      <th></th>\n",
       "      <th>Credit_History</th>\n",
       "      <th>CoapplicantIncome</th>\n",
       "      <th>Property_Area</th>\n",
       "      <th>Education</th>\n",
       "      <th>Married</th>\n",
       "    </tr>\n",
       "  </thead>\n",
       "  <tbody>\n",
       "    <tr>\n",
       "      <th>0</th>\n",
       "      <td>1.0</td>\n",
       "      <td>0</td>\n",
       "      <td>Urban</td>\n",
       "      <td>Graduate</td>\n",
       "      <td>Yes</td>\n",
       "    </tr>\n",
       "    <tr>\n",
       "      <th>1</th>\n",
       "      <td>1.0</td>\n",
       "      <td>1500</td>\n",
       "      <td>Urban</td>\n",
       "      <td>Graduate</td>\n",
       "      <td>Yes</td>\n",
       "    </tr>\n",
       "    <tr>\n",
       "      <th>2</th>\n",
       "      <td>1.0</td>\n",
       "      <td>1800</td>\n",
       "      <td>Urban</td>\n",
       "      <td>Graduate</td>\n",
       "      <td>Yes</td>\n",
       "    </tr>\n",
       "    <tr>\n",
       "      <th>3</th>\n",
       "      <td>NaN</td>\n",
       "      <td>2546</td>\n",
       "      <td>Urban</td>\n",
       "      <td>Graduate</td>\n",
       "      <td>Yes</td>\n",
       "    </tr>\n",
       "    <tr>\n",
       "      <th>4</th>\n",
       "      <td>1.0</td>\n",
       "      <td>0</td>\n",
       "      <td>Urban</td>\n",
       "      <td>Not Graduate</td>\n",
       "      <td>No</td>\n",
       "    </tr>\n",
       "  </tbody>\n",
       "</table>\n",
       "</div>"
      ],
      "text/plain": [
       "   Credit_History  CoapplicantIncome Property_Area     Education Married\n",
       "0             1.0                  0         Urban      Graduate     Yes\n",
       "1             1.0               1500         Urban      Graduate     Yes\n",
       "2             1.0               1800         Urban      Graduate     Yes\n",
       "3             NaN               2546         Urban      Graduate     Yes\n",
       "4             1.0                  0         Urban  Not Graduate      No"
      ]
     },
     "execution_count": 45,
     "metadata": {},
     "output_type": "execute_result"
    }
   ],
   "source": [
    "B1"
   ]
  },
  {
   "cell_type": "markdown",
   "id": "ede6ec98",
   "metadata": {},
   "source": [
    "# 11. Missing Data Treatment"
   ]
  },
  {
   "cell_type": "code",
   "execution_count": 46,
   "id": "eaa30a84",
   "metadata": {},
   "outputs": [
    {
     "data": {
      "text/plain": [
       "Credit_History       1\n",
       "CoapplicantIncome    0\n",
       "Property_Area        0\n",
       "Education            0\n",
       "Married              0\n",
       "dtype: int64"
      ]
     },
     "execution_count": 46,
     "metadata": {},
     "output_type": "execute_result"
    }
   ],
   "source": [
    "B1.isna().sum()"
   ]
  },
  {
   "cell_type": "code",
   "execution_count": 47,
   "id": "3bd4ea42",
   "metadata": {},
   "outputs": [],
   "source": [
    "replacer(B1)"
   ]
  },
  {
   "cell_type": "code",
   "execution_count": 48,
   "id": "5adcc7f8",
   "metadata": {},
   "outputs": [],
   "source": [
    "replacer(B)"
   ]
  },
  {
   "cell_type": "code",
   "execution_count": 49,
   "id": "567ce9d9",
   "metadata": {},
   "outputs": [],
   "source": [
    "cat = []\n",
    "con = []\n",
    "for i in B.columns:\n",
    "    if(B[i].dtypes == \"object\"):\n",
    "        cat.append(i)\n",
    "    else:\n",
    "        con.append(i)"
   ]
  },
  {
   "cell_type": "code",
   "execution_count": 50,
   "id": "98c81947",
   "metadata": {},
   "outputs": [],
   "source": [
    "#B.head(10)"
   ]
  },
  {
   "cell_type": "code",
   "execution_count": 51,
   "id": "e9fbead5",
   "metadata": {},
   "outputs": [],
   "source": [
    "#B1.head()"
   ]
  },
  {
   "cell_type": "code",
   "execution_count": 52,
   "id": "60628ec2",
   "metadata": {},
   "outputs": [],
   "source": [
    "B1 = pd.DataFrame(ss.transform(B[con]),columns=con)\n",
    "B2 = pd.get_dummies(B[cat])\n",
    "Bnew = B1.join(B2)"
   ]
  },
  {
   "cell_type": "code",
   "execution_count": 53,
   "id": "6a6a543f",
   "metadata": {},
   "outputs": [],
   "source": [
    "#Bnew.head()"
   ]
  },
  {
   "cell_type": "code",
   "execution_count": 54,
   "id": "c8e29b95",
   "metadata": {},
   "outputs": [],
   "source": [
    "#Xnew.columns"
   ]
  },
  {
   "cell_type": "code",
   "execution_count": 55,
   "id": "c086e2a0",
   "metadata": {},
   "outputs": [],
   "source": [
    "ready_for_pred = Bnew[Xnew.columns]"
   ]
  },
  {
   "cell_type": "code",
   "execution_count": 56,
   "id": "52acd938",
   "metadata": {},
   "outputs": [],
   "source": [
    "predicted_final = model.predict(ready_for_pred)"
   ]
  },
  {
   "cell_type": "code",
   "execution_count": 57,
   "id": "00336c35",
   "metadata": {},
   "outputs": [],
   "source": [
    "E = pd.DataFrame([B.Loan_ID,predicted_final]).T\n",
    "E.columns = [\"Loan_ID\",\"Loan_Status\"]"
   ]
  },
  {
   "cell_type": "code",
   "execution_count": 58,
   "id": "2feaa216",
   "metadata": {},
   "outputs": [],
   "source": [
    "E.to_csv(\"C:/Users/LENOVO/Desktop/loan_pred_submission.csv\")"
   ]
  },
  {
   "cell_type": "code",
   "execution_count": 59,
   "id": "9858a921",
   "metadata": {},
   "outputs": [
    {
     "data": {
      "text/html": [
       "<div>\n",
       "<style scoped>\n",
       "    .dataframe tbody tr th:only-of-type {\n",
       "        vertical-align: middle;\n",
       "    }\n",
       "\n",
       "    .dataframe tbody tr th {\n",
       "        vertical-align: top;\n",
       "    }\n",
       "\n",
       "    .dataframe thead th {\n",
       "        text-align: right;\n",
       "    }\n",
       "</style>\n",
       "<table border=\"1\" class=\"dataframe\">\n",
       "  <thead>\n",
       "    <tr style=\"text-align: right;\">\n",
       "      <th></th>\n",
       "      <th>Loan_ID</th>\n",
       "      <th>Loan_Status</th>\n",
       "    </tr>\n",
       "  </thead>\n",
       "  <tbody>\n",
       "    <tr>\n",
       "      <th>0</th>\n",
       "      <td>LP001015</td>\n",
       "      <td>Y</td>\n",
       "    </tr>\n",
       "    <tr>\n",
       "      <th>1</th>\n",
       "      <td>LP001022</td>\n",
       "      <td>Y</td>\n",
       "    </tr>\n",
       "    <tr>\n",
       "      <th>2</th>\n",
       "      <td>LP001031</td>\n",
       "      <td>Y</td>\n",
       "    </tr>\n",
       "    <tr>\n",
       "      <th>3</th>\n",
       "      <td>LP001035</td>\n",
       "      <td>Y</td>\n",
       "    </tr>\n",
       "    <tr>\n",
       "      <th>4</th>\n",
       "      <td>LP001051</td>\n",
       "      <td>Y</td>\n",
       "    </tr>\n",
       "    <tr>\n",
       "      <th>5</th>\n",
       "      <td>LP001054</td>\n",
       "      <td>Y</td>\n",
       "    </tr>\n",
       "    <tr>\n",
       "      <th>6</th>\n",
       "      <td>LP001055</td>\n",
       "      <td>Y</td>\n",
       "    </tr>\n",
       "    <tr>\n",
       "      <th>7</th>\n",
       "      <td>LP001056</td>\n",
       "      <td>N</td>\n",
       "    </tr>\n",
       "    <tr>\n",
       "      <th>8</th>\n",
       "      <td>LP001059</td>\n",
       "      <td>Y</td>\n",
       "    </tr>\n",
       "    <tr>\n",
       "      <th>9</th>\n",
       "      <td>LP001067</td>\n",
       "      <td>Y</td>\n",
       "    </tr>\n",
       "  </tbody>\n",
       "</table>\n",
       "</div>"
      ],
      "text/plain": [
       "    Loan_ID Loan_Status\n",
       "0  LP001015           Y\n",
       "1  LP001022           Y\n",
       "2  LP001031           Y\n",
       "3  LP001035           Y\n",
       "4  LP001051           Y\n",
       "5  LP001054           Y\n",
       "6  LP001055           Y\n",
       "7  LP001056           N\n",
       "8  LP001059           Y\n",
       "9  LP001067           Y"
      ]
     },
     "execution_count": 59,
     "metadata": {},
     "output_type": "execute_result"
    }
   ],
   "source": [
    "E.head(10)"
   ]
  },
  {
   "cell_type": "markdown",
   "id": "5600e058",
   "metadata": {},
   "source": [
    "# A) If customer is not eligible for the input required amount and duration"
   ]
  },
  {
   "cell_type": "markdown",
   "id": "3eccfcaf",
   "metadata": {},
   "source": [
    "## a.)What can be amount for the given duration.(Regression)"
   ]
  },
  {
   "cell_type": "code",
   "execution_count": 60,
   "id": "74a6f0f6",
   "metadata": {},
   "outputs": [],
   "source": [
    "B['Loan_Status'] = predicted_final"
   ]
  },
  {
   "cell_type": "code",
   "execution_count": 61,
   "id": "7d503702",
   "metadata": {},
   "outputs": [
    {
     "data": {
      "text/plain": [
       "Index(['Loan_ID', 'Gender', 'Married', 'Dependents', 'Education',\n",
       "       'Self_Employed', 'ApplicantIncome', 'CoapplicantIncome', 'LoanAmount',\n",
       "       'Loan_Amount_Term', 'Credit_History', 'Property_Area', 'Loan_Status'],\n",
       "      dtype='object')"
      ]
     },
     "execution_count": 61,
     "metadata": {},
     "output_type": "execute_result"
    }
   ],
   "source": [
    "B.columns"
   ]
  },
  {
   "cell_type": "markdown",
   "id": "9d9e533f",
   "metadata": {},
   "source": [
    "# B)Find out people for whom loan was rejected(testing set)"
   ]
  },
  {
   "cell_type": "code",
   "execution_count": 62,
   "id": "98cd012a",
   "metadata": {},
   "outputs": [],
   "source": [
    "xtest = B[B.Loan_Status == \"N\"]\n",
    "xtest_1 = xtest.drop(labels=['Loan_ID','LoanAmount','Loan_Status'],axis=1)"
   ]
  },
  {
   "cell_type": "code",
   "execution_count": 63,
   "id": "8c6f2991",
   "metadata": {},
   "outputs": [],
   "source": [
    "xtest_1.index = range(0,xtest_1.shape[0])"
   ]
  },
  {
   "cell_type": "code",
   "execution_count": 64,
   "id": "e8121d28",
   "metadata": {},
   "outputs": [],
   "source": [
    "#xtest_1"
   ]
  },
  {
   "cell_type": "markdown",
   "id": "3f7a5e09",
   "metadata": {},
   "source": [
    "## Create training data based on above predictors"
   ]
  },
  {
   "cell_type": "code",
   "execution_count": 65,
   "id": "36823f0a",
   "metadata": {},
   "outputs": [],
   "source": [
    "Q = A[xtest_1.columns]\n",
    "Q['LS'] = A.Loan_Status"
   ]
  },
  {
   "cell_type": "code",
   "execution_count": 66,
   "id": "805aa5b9",
   "metadata": {},
   "outputs": [],
   "source": [
    "Q = Q[Q.LS == \"Y\"]\n",
    "Q = Q.drop(labels=[\"LS\"],axis=1)"
   ]
  },
  {
   "cell_type": "code",
   "execution_count": 67,
   "id": "bf0f30fc",
   "metadata": {},
   "outputs": [],
   "source": [
    "R = A[[\"LoanAmount\"]]\n",
    "R = R.iloc[Q.index,:]\n",
    "R.index = range(0,R.shape[0])"
   ]
  },
  {
   "cell_type": "code",
   "execution_count": 68,
   "id": "c13099d1",
   "metadata": {},
   "outputs": [
    {
     "data": {
      "text/plain": [
       "422"
      ]
     },
     "execution_count": 68,
     "metadata": {},
     "output_type": "execute_result"
    }
   ],
   "source": [
    "Q.shape[0]"
   ]
  },
  {
   "cell_type": "code",
   "execution_count": 69,
   "id": "164393ef",
   "metadata": {},
   "outputs": [],
   "source": [
    "Q.index = range(0,Q.shape[0])"
   ]
  },
  {
   "cell_type": "markdown",
   "id": "46446367",
   "metadata": {},
   "source": [
    "# Preprocessing"
   ]
  },
  {
   "cell_type": "code",
   "execution_count": 70,
   "id": "4cbdcd5e",
   "metadata": {},
   "outputs": [],
   "source": [
    "replacer(Q)\n",
    "replacer(xtest_1)"
   ]
  },
  {
   "cell_type": "code",
   "execution_count": 71,
   "id": "763a453d",
   "metadata": {},
   "outputs": [],
   "source": [
    "from PM8wd import preprocessing\n",
    "xtrain = preprocessing(Q)\n",
    "xtest_final = preprocessing(xtest_1)"
   ]
  },
  {
   "cell_type": "code",
   "execution_count": 72,
   "id": "349f861e",
   "metadata": {},
   "outputs": [],
   "source": [
    "ytrain = R.LoanAmount"
   ]
  },
  {
   "cell_type": "code",
   "execution_count": 73,
   "id": "ee2dc574",
   "metadata": {},
   "outputs": [
    {
     "data": {
      "text/plain": [
       "0    146.412162\n",
       "1     66.000000\n",
       "2    120.000000\n",
       "Name: LoanAmount, dtype: float64"
      ]
     },
     "execution_count": 73,
     "metadata": {},
     "output_type": "execute_result"
    }
   ],
   "source": [
    "ytrain.head(3)"
   ]
  },
  {
   "cell_type": "markdown",
   "id": "1e141ed9",
   "metadata": {},
   "source": [
    "# Regression Model"
   ]
  },
  {
   "cell_type": "code",
   "execution_count": 74,
   "id": "ee765d46",
   "metadata": {},
   "outputs": [],
   "source": [
    "from sklearn.linear_model import LinearRegression\n",
    "lm = LinearRegression()\n",
    "model = lm.fit(xtrain,ytrain)\n",
    "pred = model.predict(xtest_final)"
   ]
  },
  {
   "cell_type": "code",
   "execution_count": 75,
   "id": "3f1cbcc7",
   "metadata": {},
   "outputs": [
    {
     "data": {
      "text/plain": [
       "(105,)"
      ]
     },
     "execution_count": 75,
     "metadata": {},
     "output_type": "execute_result"
    }
   ],
   "source": [
    "pred.shape"
   ]
  },
  {
   "cell_type": "code",
   "execution_count": 76,
   "id": "077c4311",
   "metadata": {},
   "outputs": [],
   "source": [
    "act = B[B.Loan_Status == \"N\"][[\"LoanAmount\"]]"
   ]
  },
  {
   "cell_type": "code",
   "execution_count": 77,
   "id": "e1f2dc42",
   "metadata": {},
   "outputs": [],
   "source": [
    "act.index = range(0,105)"
   ]
  },
  {
   "cell_type": "code",
   "execution_count": 78,
   "id": "6998702b",
   "metadata": {},
   "outputs": [],
   "source": [
    "E = range(0,105)"
   ]
  },
  {
   "cell_type": "code",
   "execution_count": 79,
   "id": "a68bf1e6",
   "metadata": {},
   "outputs": [
    {
     "data": {
      "text/plain": [
       "[<matplotlib.lines.Line2D at 0x28f3cbe4d90>]"
      ]
     },
     "execution_count": 79,
     "metadata": {},
     "output_type": "execute_result"
    },
    {
     "data": {
      "image/png": "[encoded data removed]",
      "text/plain": [
       "<Figure size 432x288 with 1 Axes>"
      ]
     },
     "metadata": {
      "needs_background": "light"
     },
     "output_type": "display_data"
    }
   ],
   "source": [
    "import matplotlib.pyplot as plt\n",
    "plt.plot(act,c= \"blue\")\n",
    "plt.plot(pred,c= \"red\")"
   ]
  },
  {
   "cell_type": "markdown",
   "id": "f352a68f",
   "metadata": {},
   "source": [
    "# if duration is less than equal to 20 years, is customer eligible for required amount for some longer duration? What is that duration?(Regression)¶"
   ]
  },
  {
   "cell_type": "code",
   "execution_count": 80,
   "id": "e9257bf2",
   "metadata": {},
   "outputs": [],
   "source": [
    "B['Duration'] =  B.Loan_Amount_Term/12"
   ]
  },
  {
   "cell_type": "code",
   "execution_count": 81,
   "id": "4480c73b",
   "metadata": {},
   "outputs": [],
   "source": [
    "data_for_pred = B[(B.Duration<=20) & (B.Loan_Status==\"Y\")]\n",
    "data_for_pred_final = data_for_pred.drop(labels=['Duration','Loan_ID','Loan_Status',\"Loan_Amount_Term\"],axis=1)\n",
    "data_for_pred_final.index = range(0,data_for_pred_final.shape[0])"
   ]
  },
  {
   "cell_type": "code",
   "execution_count": 82,
   "id": "30bfec4d",
   "metadata": {},
   "outputs": [
    {
     "data": {
      "text/html": [
       "<div>\n",
       "<style scoped>\n",
       "    .dataframe tbody tr th:only-of-type {\n",
       "        vertical-align: middle;\n",
       "    }\n",
       "\n",
       "    .dataframe tbody tr th {\n",
       "        vertical-align: top;\n",
       "    }\n",
       "\n",
       "    .dataframe thead th {\n",
       "        text-align: right;\n",
       "    }\n",
       "</style>\n",
       "<table border=\"1\" class=\"dataframe\">\n",
       "  <thead>\n",
       "    <tr style=\"text-align: right;\">\n",
       "      <th></th>\n",
       "      <th>Gender</th>\n",
       "      <th>Married</th>\n",
       "      <th>Dependents</th>\n",
       "      <th>Education</th>\n",
       "      <th>Self_Employed</th>\n",
       "      <th>ApplicantIncome</th>\n",
       "      <th>CoapplicantIncome</th>\n",
       "      <th>LoanAmount</th>\n",
       "      <th>Credit_History</th>\n",
       "      <th>Property_Area</th>\n",
       "    </tr>\n",
       "  </thead>\n",
       "  <tbody>\n",
       "    <tr>\n",
       "      <th>0</th>\n",
       "      <td>Male</td>\n",
       "      <td>Yes</td>\n",
       "      <td>2</td>\n",
       "      <td>Graduate</td>\n",
       "      <td>No</td>\n",
       "      <td>13633</td>\n",
       "      <td>0</td>\n",
       "      <td>280.0</td>\n",
       "      <td>1.000000</td>\n",
       "      <td>Urban</td>\n",
       "    </tr>\n",
       "    <tr>\n",
       "      <th>1</th>\n",
       "      <td>Male</td>\n",
       "      <td>No</td>\n",
       "      <td>3+</td>\n",
       "      <td>Graduate</td>\n",
       "      <td>No</td>\n",
       "      <td>4166</td>\n",
       "      <td>0</td>\n",
       "      <td>40.0</td>\n",
       "      <td>0.825444</td>\n",
       "      <td>Urban</td>\n",
       "    </tr>\n",
       "  </tbody>\n",
       "</table>\n",
       "</div>"
      ],
      "text/plain": [
       "  Gender Married Dependents Education Self_Employed  ApplicantIncome  \\\n",
       "0   Male     Yes          2  Graduate            No            13633   \n",
       "1   Male      No         3+  Graduate            No             4166   \n",
       "\n",
       "   CoapplicantIncome  LoanAmount  Credit_History Property_Area  \n",
       "0                  0       280.0        1.000000         Urban  \n",
       "1                  0        40.0        0.825444         Urban  "
      ]
     },
     "execution_count": 82,
     "metadata": {},
     "output_type": "execute_result"
    }
   ],
   "source": [
    "data_for_pred_final.head(2)"
   ]
  },
  {
   "cell_type": "markdown",
   "id": "805395c0",
   "metadata": {},
   "source": [
    "# Prepare training data"
   ]
  },
  {
   "cell_type": "code",
   "execution_count": 83,
   "id": "20ea928f",
   "metadata": {},
   "outputs": [],
   "source": [
    "T = A[A.Loan_Status == \"Y\"]\n",
    "T1 = T[data_for_pred_final.columns]\n",
    "T1.index = range(0,T1.shape[0])"
   ]
  },
  {
   "cell_type": "code",
   "execution_count": 84,
   "id": "4fe48e3f",
   "metadata": {},
   "outputs": [],
   "source": [
    "xtrain = preprocessing(T1)"
   ]
  },
  {
   "cell_type": "code",
   "execution_count": 85,
   "id": "07edca4d",
   "metadata": {},
   "outputs": [],
   "source": [
    "ytrain = T[[\"Loan_Amount_Term\"]]"
   ]
  },
  {
   "cell_type": "code",
   "execution_count": 86,
   "id": "6defad12",
   "metadata": {},
   "outputs": [],
   "source": [
    "ytrain.index = range(0,ytrain.shape[0])"
   ]
  },
  {
   "cell_type": "code",
   "execution_count": 87,
   "id": "ad070e79",
   "metadata": {},
   "outputs": [],
   "source": [
    "replacer(data_for_pred_final)\n",
    "final_pred = preprocessing(data_for_pred_final)"
   ]
  },
  {
   "cell_type": "code",
   "execution_count": 88,
   "id": "7b906cfc",
   "metadata": {},
   "outputs": [],
   "source": [
    "model = lm.fit(xtrain,ytrain)\n",
    "pred = model.predict(final_pred)"
   ]
  },
  {
   "cell_type": "code",
   "execution_count": 89,
   "id": "bd4cf5fe",
   "metadata": {},
   "outputs": [],
   "source": [
    "U = B[(B.Duration<=20)&(B.Loan_Status==\"Y\")][[\"Loan_Amount_Term\"]]\n",
    "U.index = range(0,U.shape[0])"
   ]
  },
  {
   "cell_type": "code",
   "execution_count": 90,
   "id": "00d61e93",
   "metadata": {},
   "outputs": [
    {
     "data": {
      "text/plain": [
       "[<matplotlib.lines.Line2D at 0x28f3cceca60>]"
      ]
     },
     "execution_count": 90,
     "metadata": {},
     "output_type": "execute_result"
    },
    {
     "data": {
      "image/png": "[encoded data removed]",
      "text/plain": [
       "<Figure size 432x288 with 1 Axes>"
      ]
     },
     "metadata": {
      "needs_background": "light"
     },
     "output_type": "display_data"
    }
   ],
   "source": [
    "plt.plot(U/12,c=\"red\")\n",
    "plt.plot(pred/12,c=\"blue\")"
   ]
  },
  {
   "cell_type": "code",
   "execution_count": 91,
   "id": "9f3f5a53",
   "metadata": {},
   "outputs": [
    {
     "data": {
      "text/plain": [
       "(25, 1)"
      ]
     },
     "execution_count": 91,
     "metadata": {},
     "output_type": "execute_result"
    }
   ],
   "source": [
    "U.shape"
   ]
  },
  {
   "cell_type": "code",
   "execution_count": 92,
   "id": "a2cffab4",
   "metadata": {},
   "outputs": [
    {
     "data": {
      "text/plain": [
       "(25, 1)"
      ]
     },
     "execution_count": 92,
     "metadata": {},
     "output_type": "execute_result"
    }
   ],
   "source": [
    "pred.shape"
   ]
  },
  {
   "cell_type": "code",
   "execution_count": 93,
   "id": "9360c0e8",
   "metadata": {},
   "outputs": [
    {
     "data": {
      "text/html": [
       "<div>\n",
       "<style scoped>\n",
       "    .dataframe tbody tr th:only-of-type {\n",
       "        vertical-align: middle;\n",
       "    }\n",
       "\n",
       "    .dataframe tbody tr th {\n",
       "        vertical-align: top;\n",
       "    }\n",
       "\n",
       "    .dataframe thead th {\n",
       "        text-align: right;\n",
       "    }\n",
       "</style>\n",
       "<table border=\"1\" class=\"dataframe\">\n",
       "  <thead>\n",
       "    <tr style=\"text-align: right;\">\n",
       "      <th></th>\n",
       "      <th>Loan_Amount_Term</th>\n",
       "    </tr>\n",
       "  </thead>\n",
       "  <tbody>\n",
       "    <tr>\n",
       "      <th>0</th>\n",
       "      <td>240.0</td>\n",
       "    </tr>\n",
       "    <tr>\n",
       "      <th>1</th>\n",
       "      <td>180.0</td>\n",
       "    </tr>\n",
       "    <tr>\n",
       "      <th>2</th>\n",
       "      <td>180.0</td>\n",
       "    </tr>\n",
       "    <tr>\n",
       "      <th>3</th>\n",
       "      <td>180.0</td>\n",
       "    </tr>\n",
       "    <tr>\n",
       "      <th>4</th>\n",
       "      <td>180.0</td>\n",
       "    </tr>\n",
       "    <tr>\n",
       "      <th>5</th>\n",
       "      <td>180.0</td>\n",
       "    </tr>\n",
       "    <tr>\n",
       "      <th>6</th>\n",
       "      <td>180.0</td>\n",
       "    </tr>\n",
       "    <tr>\n",
       "      <th>7</th>\n",
       "      <td>180.0</td>\n",
       "    </tr>\n",
       "    <tr>\n",
       "      <th>8</th>\n",
       "      <td>60.0</td>\n",
       "    </tr>\n",
       "    <tr>\n",
       "      <th>9</th>\n",
       "      <td>180.0</td>\n",
       "    </tr>\n",
       "    <tr>\n",
       "      <th>10</th>\n",
       "      <td>180.0</td>\n",
       "    </tr>\n",
       "    <tr>\n",
       "      <th>11</th>\n",
       "      <td>84.0</td>\n",
       "    </tr>\n",
       "    <tr>\n",
       "      <th>12</th>\n",
       "      <td>240.0</td>\n",
       "    </tr>\n",
       "    <tr>\n",
       "      <th>13</th>\n",
       "      <td>12.0</td>\n",
       "    </tr>\n",
       "    <tr>\n",
       "      <th>14</th>\n",
       "      <td>240.0</td>\n",
       "    </tr>\n",
       "    <tr>\n",
       "      <th>15</th>\n",
       "      <td>84.0</td>\n",
       "    </tr>\n",
       "    <tr>\n",
       "      <th>16</th>\n",
       "      <td>36.0</td>\n",
       "    </tr>\n",
       "    <tr>\n",
       "      <th>17</th>\n",
       "      <td>180.0</td>\n",
       "    </tr>\n",
       "    <tr>\n",
       "      <th>18</th>\n",
       "      <td>180.0</td>\n",
       "    </tr>\n",
       "    <tr>\n",
       "      <th>19</th>\n",
       "      <td>84.0</td>\n",
       "    </tr>\n",
       "    <tr>\n",
       "      <th>20</th>\n",
       "      <td>180.0</td>\n",
       "    </tr>\n",
       "    <tr>\n",
       "      <th>21</th>\n",
       "      <td>120.0</td>\n",
       "    </tr>\n",
       "    <tr>\n",
       "      <th>22</th>\n",
       "      <td>240.0</td>\n",
       "    </tr>\n",
       "    <tr>\n",
       "      <th>23</th>\n",
       "      <td>180.0</td>\n",
       "    </tr>\n",
       "    <tr>\n",
       "      <th>24</th>\n",
       "      <td>180.0</td>\n",
       "    </tr>\n",
       "  </tbody>\n",
       "</table>\n",
       "</div>"
      ],
      "text/plain": [
       "    Loan_Amount_Term\n",
       "0              240.0\n",
       "1              180.0\n",
       "2              180.0\n",
       "3              180.0\n",
       "4              180.0\n",
       "5              180.0\n",
       "6              180.0\n",
       "7              180.0\n",
       "8               60.0\n",
       "9              180.0\n",
       "10             180.0\n",
       "11              84.0\n",
       "12             240.0\n",
       "13              12.0\n",
       "14             240.0\n",
       "15              84.0\n",
       "16              36.0\n",
       "17             180.0\n",
       "18             180.0\n",
       "19              84.0\n",
       "20             180.0\n",
       "21             120.0\n",
       "22             240.0\n",
       "23             180.0\n",
       "24             180.0"
      ]
     },
     "execution_count": 93,
     "metadata": {},
     "output_type": "execute_result"
    }
   ],
   "source": [
    "U"
   ]
  },
  {
   "cell_type": "markdown",
   "id": "24dcb4b7",
   "metadata": {},
   "source": [
    "# ---------------------------------------------------------------------------------------------------------------"
   ]
  }
 ],
 "metadata": {
  "kernelspec": {
   "display_name": "Python 3 (ipykernel)",
   "language": "python",
   "name": "python3"
  },
  "language_info": {
   "codemirror_mode": {
    "name": "ipython",
    "version": 3
   },
   "file_extension": ".py",
   "mimetype": "text/x-python",
   "name": "python",
   "nbconvert_exporter": "python",
   "pygments_lexer": "ipython3",
   "version": "3.8.13"
  }
 },
 "nbformat": 4,
 "nbformat_minor": 5
}
