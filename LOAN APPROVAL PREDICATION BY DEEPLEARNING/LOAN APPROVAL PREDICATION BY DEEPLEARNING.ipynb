{
 "cells": [
  {
   "cell_type": "markdown",
   "id": "4125b6f0",
   "metadata": {},
   "source": [
    "# Step 1:- Read_Dataset"
   ]
  },
  {
   "cell_type": "code",
   "execution_count": 1,
   "id": "a8a441c4",
   "metadata": {},
   "outputs": [],
   "source": [
    "import pandas as pd\n",
    "A = pd.read_csv(\"C:/Users/LENOVO/Desktop/ML/loan_pred/training_set.csv\")"
   ]
  },
  {
   "cell_type": "code",
   "execution_count": 2,
   "id": "68eb3d9f",
   "metadata": {},
   "outputs": [
    {
     "data": {
      "text/html": [
       "<div>\n",
       "<style scoped>\n",
       "    .dataframe tbody tr th:only-of-type {\n",
       "        vertical-align: middle;\n",
       "    }\n",
       "\n",
       "    .dataframe tbody tr th {\n",
       "        vertical-align: top;\n",
       "    }\n",
       "\n",
       "    .dataframe thead th {\n",
       "        text-align: right;\n",
       "    }\n",
       "</style>\n",
       "<table border=\"1\" class=\"dataframe\">\n",
       "  <thead>\n",
       "    <tr style=\"text-align: right;\">\n",
       "      <th></th>\n",
       "      <th>Loan_ID</th>\n",
       "      <th>Gender</th>\n",
       "      <th>Married</th>\n",
       "      <th>Dependents</th>\n",
       "      <th>Education</th>\n",
       "      <th>Self_Employed</th>\n",
       "      <th>ApplicantIncome</th>\n",
       "      <th>CoapplicantIncome</th>\n",
       "      <th>LoanAmount</th>\n",
       "      <th>Loan_Amount_Term</th>\n",
       "      <th>Credit_History</th>\n",
       "      <th>Property_Area</th>\n",
       "      <th>Loan_Status</th>\n",
       "    </tr>\n",
       "  </thead>\n",
       "  <tbody>\n",
       "    <tr>\n",
       "      <th>0</th>\n",
       "      <td>LP001002</td>\n",
       "      <td>Male</td>\n",
       "      <td>No</td>\n",
       "      <td>0</td>\n",
       "      <td>Graduate</td>\n",
       "      <td>No</td>\n",
       "      <td>5849.0</td>\n",
       "      <td>0.0</td>\n",
       "      <td>NaN</td>\n",
       "      <td>360.0</td>\n",
       "      <td>1.0</td>\n",
       "      <td>Urban</td>\n",
       "      <td>Y</td>\n",
       "    </tr>\n",
       "    <tr>\n",
       "      <th>1</th>\n",
       "      <td>LP001003</td>\n",
       "      <td>Male</td>\n",
       "      <td>Yes</td>\n",
       "      <td>1</td>\n",
       "      <td>Graduate</td>\n",
       "      <td>No</td>\n",
       "      <td>NaN</td>\n",
       "      <td>1508.0</td>\n",
       "      <td>128.0</td>\n",
       "      <td>360.0</td>\n",
       "      <td>1.0</td>\n",
       "      <td>Rural</td>\n",
       "      <td>N</td>\n",
       "    </tr>\n",
       "  </tbody>\n",
       "</table>\n",
       "</div>"
      ],
      "text/plain": [
       "    Loan_ID Gender Married Dependents Education Self_Employed  \\\n",
       "0  LP001002   Male      No          0  Graduate            No   \n",
       "1  LP001003   Male     Yes          1  Graduate            No   \n",
       "\n",
       "   ApplicantIncome  CoapplicantIncome  LoanAmount  Loan_Amount_Term  \\\n",
       "0           5849.0                0.0         NaN             360.0   \n",
       "1              NaN             1508.0       128.0             360.0   \n",
       "\n",
       "   Credit_History Property_Area Loan_Status  \n",
       "0             1.0         Urban           Y  \n",
       "1             1.0         Rural           N  "
      ]
     },
     "execution_count": 2,
     "metadata": {},
     "output_type": "execute_result"
    }
   ],
   "source": [
    "A.head(2)"
   ]
  },
  {
   "cell_type": "markdown",
   "id": "c155243a",
   "metadata": {},
   "source": [
    "# Step 2:- Missing_Data_Treatment"
   ]
  },
  {
   "cell_type": "code",
   "execution_count": 3,
   "id": "7902b804",
   "metadata": {},
   "outputs": [
    {
     "data": {
      "text/plain": [
       "Loan_ID               0\n",
       "Gender               15\n",
       "Married               3\n",
       "Dependents           15\n",
       "Education             1\n",
       "Self_Employed        32\n",
       "ApplicantIncome       2\n",
       "CoapplicantIncome     1\n",
       "LoanAmount           22\n",
       "Loan_Amount_Term     14\n",
       "Credit_History       50\n",
       "Property_Area         0\n",
       "Loan_Status           0\n",
       "dtype: int64"
      ]
     },
     "execution_count": 3,
     "metadata": {},
     "output_type": "execute_result"
    }
   ],
   "source": [
    "A.isna().sum()"
   ]
  },
  {
   "cell_type": "code",
   "execution_count": 4,
   "id": "ed0d9d91",
   "metadata": {},
   "outputs": [],
   "source": [
    "from PM8wd import replacer\n",
    "replacer(A)"
   ]
  },
  {
   "cell_type": "code",
   "execution_count": 5,
   "id": "02fc6d49",
   "metadata": {},
   "outputs": [
    {
     "data": {
      "text/plain": [
       "Loan_ID              0\n",
       "Gender               0\n",
       "Married              0\n",
       "Dependents           0\n",
       "Education            0\n",
       "Self_Employed        0\n",
       "ApplicantIncome      0\n",
       "CoapplicantIncome    0\n",
       "LoanAmount           0\n",
       "Loan_Amount_Term     0\n",
       "Credit_History       0\n",
       "Property_Area        0\n",
       "Loan_Status          0\n",
       "dtype: int64"
      ]
     },
     "execution_count": 5,
     "metadata": {},
     "output_type": "execute_result"
    }
   ],
   "source": [
    "A.isna().sum()"
   ]
  },
  {
   "cell_type": "markdown",
   "id": "396440de",
   "metadata": {},
   "source": [
    "# Step 3:- Preprocessing"
   ]
  },
  {
   "cell_type": "code",
   "execution_count": 6,
   "id": "51188897",
   "metadata": {},
   "outputs": [],
   "source": [
    "Y = A[[\"Loan_Status\"]]\n",
    "X = A.drop(labels=[\"Loan_Status\",\"Loan_ID\"],axis = 1)"
   ]
  },
  {
   "cell_type": "code",
   "execution_count": 7,
   "id": "c6f64d58",
   "metadata": {},
   "outputs": [],
   "source": [
    "from PM8wd import standardize,outliers\n",
    "X1 = standardize(X)\n",
    "outliers = outliers(X1)"
   ]
  },
  {
   "cell_type": "code",
   "execution_count": 8,
   "id": "028ff3d4",
   "metadata": {},
   "outputs": [
    {
     "name": "stdout",
     "output_type": "stream",
     "text": [
      "(577, 11)\n"
     ]
    }
   ],
   "source": [
    "X = X.drop(index=outliers,axis=0)\n",
    "Y = Y.drop(index=outliers,axis=0)\n",
    "print(X.shape)\n",
    "X.index = range(0,577,1)\n",
    "Y.index = range(0,577,1)"
   ]
  },
  {
   "cell_type": "code",
   "execution_count": 9,
   "id": "33f03332",
   "metadata": {},
   "outputs": [
    {
     "data": {
      "text/html": [
       "<div>\n",
       "<style scoped>\n",
       "    .dataframe tbody tr th:only-of-type {\n",
       "        vertical-align: middle;\n",
       "    }\n",
       "\n",
       "    .dataframe tbody tr th {\n",
       "        vertical-align: top;\n",
       "    }\n",
       "\n",
       "    .dataframe thead th {\n",
       "        text-align: right;\n",
       "    }\n",
       "</style>\n",
       "<table border=\"1\" class=\"dataframe\">\n",
       "  <thead>\n",
       "    <tr style=\"text-align: right;\">\n",
       "      <th></th>\n",
       "      <th>Gender</th>\n",
       "      <th>Married</th>\n",
       "      <th>Dependents</th>\n",
       "      <th>Education</th>\n",
       "      <th>Self_Employed</th>\n",
       "      <th>ApplicantIncome</th>\n",
       "      <th>CoapplicantIncome</th>\n",
       "      <th>LoanAmount</th>\n",
       "      <th>Loan_Amount_Term</th>\n",
       "      <th>Credit_History</th>\n",
       "      <th>Property_Area</th>\n",
       "    </tr>\n",
       "  </thead>\n",
       "  <tbody>\n",
       "    <tr>\n",
       "      <th>0</th>\n",
       "      <td>Male</td>\n",
       "      <td>No</td>\n",
       "      <td>0</td>\n",
       "      <td>Graduate</td>\n",
       "      <td>No</td>\n",
       "      <td>5849.00000</td>\n",
       "      <td>0.0</td>\n",
       "      <td>146.412162</td>\n",
       "      <td>360.0</td>\n",
       "      <td>1.0</td>\n",
       "      <td>Urban</td>\n",
       "    </tr>\n",
       "    <tr>\n",
       "      <th>1</th>\n",
       "      <td>Male</td>\n",
       "      <td>Yes</td>\n",
       "      <td>1</td>\n",
       "      <td>Graduate</td>\n",
       "      <td>No</td>\n",
       "      <td>5405.54085</td>\n",
       "      <td>1508.0</td>\n",
       "      <td>128.000000</td>\n",
       "      <td>360.0</td>\n",
       "      <td>1.0</td>\n",
       "      <td>Rural</td>\n",
       "    </tr>\n",
       "  </tbody>\n",
       "</table>\n",
       "</div>"
      ],
      "text/plain": [
       "  Gender Married Dependents Education Self_Employed  ApplicantIncome  \\\n",
       "0   Male      No          0  Graduate            No       5849.00000   \n",
       "1   Male     Yes          1  Graduate            No       5405.54085   \n",
       "\n",
       "   CoapplicantIncome  LoanAmount  Loan_Amount_Term  Credit_History  \\\n",
       "0                0.0  146.412162             360.0             1.0   \n",
       "1             1508.0  128.000000             360.0             1.0   \n",
       "\n",
       "  Property_Area  \n",
       "0         Urban  \n",
       "1         Rural  "
      ]
     },
     "execution_count": 9,
     "metadata": {},
     "output_type": "execute_result"
    }
   ],
   "source": [
    "X.head(2)"
   ]
  },
  {
   "cell_type": "code",
   "execution_count": 10,
   "id": "07963f6d",
   "metadata": {},
   "outputs": [],
   "source": [
    "from PM8wd import preprocessing\n",
    "Xnew = preprocessing(X)"
   ]
  },
  {
   "cell_type": "code",
   "execution_count": 11,
   "id": "5b05b36d",
   "metadata": {},
   "outputs": [],
   "source": [
    "from warnings import filterwarnings\n",
    "filterwarnings(\"ignore\")\n",
    "from sklearn.preprocessing import LabelEncoder\n",
    "le = LabelEncoder()\n",
    "Ynew = pd.DataFrame(le.fit_transform(Y),columns=[\"Loan_Status\"])"
   ]
  },
  {
   "cell_type": "code",
   "execution_count": 12,
   "id": "b8059b26",
   "metadata": {},
   "outputs": [
    {
     "data": {
      "text/html": [
       "<div>\n",
       "<style scoped>\n",
       "    .dataframe tbody tr th:only-of-type {\n",
       "        vertical-align: middle;\n",
       "    }\n",
       "\n",
       "    .dataframe tbody tr th {\n",
       "        vertical-align: top;\n",
       "    }\n",
       "\n",
       "    .dataframe thead th {\n",
       "        text-align: right;\n",
       "    }\n",
       "</style>\n",
       "<table border=\"1\" class=\"dataframe\">\n",
       "  <thead>\n",
       "    <tr style=\"text-align: right;\">\n",
       "      <th></th>\n",
       "      <th>Loan_Status</th>\n",
       "    </tr>\n",
       "  </thead>\n",
       "  <tbody>\n",
       "    <tr>\n",
       "      <th>0</th>\n",
       "      <td>1</td>\n",
       "    </tr>\n",
       "    <tr>\n",
       "      <th>1</th>\n",
       "      <td>0</td>\n",
       "    </tr>\n",
       "    <tr>\n",
       "      <th>2</th>\n",
       "      <td>1</td>\n",
       "    </tr>\n",
       "    <tr>\n",
       "      <th>3</th>\n",
       "      <td>1</td>\n",
       "    </tr>\n",
       "    <tr>\n",
       "      <th>4</th>\n",
       "      <td>1</td>\n",
       "    </tr>\n",
       "    <tr>\n",
       "      <th>...</th>\n",
       "      <td>...</td>\n",
       "    </tr>\n",
       "    <tr>\n",
       "      <th>572</th>\n",
       "      <td>1</td>\n",
       "    </tr>\n",
       "    <tr>\n",
       "      <th>573</th>\n",
       "      <td>1</td>\n",
       "    </tr>\n",
       "    <tr>\n",
       "      <th>574</th>\n",
       "      <td>1</td>\n",
       "    </tr>\n",
       "    <tr>\n",
       "      <th>575</th>\n",
       "      <td>1</td>\n",
       "    </tr>\n",
       "    <tr>\n",
       "      <th>576</th>\n",
       "      <td>0</td>\n",
       "    </tr>\n",
       "  </tbody>\n",
       "</table>\n",
       "<p>577 rows × 1 columns</p>\n",
       "</div>"
      ],
      "text/plain": [
       "     Loan_Status\n",
       "0              1\n",
       "1              0\n",
       "2              1\n",
       "3              1\n",
       "4              1\n",
       "..           ...\n",
       "572            1\n",
       "573            1\n",
       "574            1\n",
       "575            1\n",
       "576            0\n",
       "\n",
       "[577 rows x 1 columns]"
      ]
     },
     "execution_count": 12,
     "metadata": {},
     "output_type": "execute_result"
    }
   ],
   "source": [
    "Ynew"
   ]
  },
  {
   "cell_type": "markdown",
   "id": "17491bf1",
   "metadata": {},
   "source": [
    "# Step 4:- Train_the_Model"
   ]
  },
  {
   "cell_type": "code",
   "execution_count": 13,
   "id": "23d6a3e7",
   "metadata": {},
   "outputs": [],
   "source": [
    "from keras.models import Sequential\n",
    "from keras.layers import Dense\n",
    "from keras.optimizers import SGD"
   ]
  },
  {
   "cell_type": "code",
   "execution_count": 14,
   "id": "a8b37dd5",
   "metadata": {},
   "outputs": [
    {
     "name": "stdout",
     "output_type": "stream",
     "text": [
      "Epoch 1/50\n",
      "15/15 [==============================] - 0s 9ms/step - loss: 0.6471 - accuracy: 0.6855 - val_loss: 0.6356 - val_accuracy: 0.6724\n",
      "Epoch 2/50\n",
      "15/15 [==============================] - 0s 2ms/step - loss: 0.5810 - accuracy: 0.7223 - val_loss: 0.5929 - val_accuracy: 0.6897\n",
      "Epoch 3/50\n",
      "15/15 [==============================] - 0s 1ms/step - loss: 0.5406 - accuracy: 0.7657 - val_loss: 0.5570 - val_accuracy: 0.7500\n",
      "Epoch 4/50\n",
      "15/15 [==============================] - 0s 2ms/step - loss: 0.5096 - accuracy: 0.7983 - val_loss: 0.5312 - val_accuracy: 0.7845\n",
      "Epoch 5/50\n",
      "15/15 [==============================] - 0s 1ms/step - loss: 0.4872 - accuracy: 0.8069 - val_loss: 0.5100 - val_accuracy: 0.8103\n",
      "Epoch 6/50\n",
      "15/15 [==============================] - 0s 2ms/step - loss: 0.4719 - accuracy: 0.8091 - val_loss: 0.5006 - val_accuracy: 0.8190\n",
      "Epoch 7/50\n",
      "15/15 [==============================] - 0s 2ms/step - loss: 0.4633 - accuracy: 0.8091 - val_loss: 0.4900 - val_accuracy: 0.8190\n",
      "Epoch 8/50\n",
      "15/15 [==============================] - 0s 2ms/step - loss: 0.4557 - accuracy: 0.8091 - val_loss: 0.4848 - val_accuracy: 0.8190\n",
      "Epoch 9/50\n",
      "15/15 [==============================] - 0s 2ms/step - loss: 0.4498 - accuracy: 0.8091 - val_loss: 0.4809 - val_accuracy: 0.8190\n",
      "Epoch 10/50\n",
      "15/15 [==============================] - 0s 2ms/step - loss: 0.4464 - accuracy: 0.8069 - val_loss: 0.4797 - val_accuracy: 0.8190\n",
      "Epoch 11/50\n",
      "15/15 [==============================] - 0s 2ms/step - loss: 0.4438 - accuracy: 0.8091 - val_loss: 0.4798 - val_accuracy: 0.8103\n",
      "Epoch 12/50\n",
      "15/15 [==============================] - 0s 2ms/step - loss: 0.4436 - accuracy: 0.8004 - val_loss: 0.4774 - val_accuracy: 0.8190\n",
      "Epoch 13/50\n",
      "15/15 [==============================] - 0s 2ms/step - loss: 0.4423 - accuracy: 0.8113 - val_loss: 0.4790 - val_accuracy: 0.8190\n"
     ]
    }
   ],
   "source": [
    "from keras.callbacks import EarlyStopping\n",
    "es = EarlyStopping(patience=7,monitor='val_accuracy')\n",
    "\n",
    "nn = Sequential()\n",
    "nn.add(Dense(40,input_dim=20))\n",
    "nn.add(Dense(1,activation=\"sigmoid\"))\n",
    "\n",
    "nn.compile(loss=\"binary_crossentropy\",metrics=[\"accuracy\"])\n",
    "model = nn.fit(Xnew,Ynew,validation_split=0.2,epochs=50,callbacks=es)"
   ]
  },
  {
   "cell_type": "code",
   "execution_count": 15,
   "id": "1ff097f5",
   "metadata": {},
   "outputs": [
    {
     "data": {
      "text/plain": [
       "{'loss': [0.6470978856086731,\n",
       "  0.5809938907623291,\n",
       "  0.540615975856781,\n",
       "  0.5095778703689575,\n",
       "  0.4871668517589569,\n",
       "  0.4719175696372986,\n",
       "  0.4632773995399475,\n",
       "  0.455661803483963,\n",
       "  0.4498063325881958,\n",
       "  0.44639742374420166,\n",
       "  0.4438449442386627,\n",
       "  0.4436028301715851,\n",
       "  0.4423341155052185],\n",
       " 'accuracy': [0.6854663491249084,\n",
       "  0.7223427295684814,\n",
       "  0.7657266855239868,\n",
       "  0.7982646226882935,\n",
       "  0.8069414496421814,\n",
       "  0.8091106414794922,\n",
       "  0.8091106414794922,\n",
       "  0.8091106414794922,\n",
       "  0.8091106414794922,\n",
       "  0.8069414496421814,\n",
       "  0.8091106414794922,\n",
       "  0.8004338145256042,\n",
       "  0.811279833316803],\n",
       " 'val_loss': [0.6355709433555603,\n",
       "  0.5929394364356995,\n",
       "  0.557007908821106,\n",
       "  0.5311951637268066,\n",
       "  0.5100106000900269,\n",
       "  0.5005564093589783,\n",
       "  0.4899626672267914,\n",
       "  0.4848458468914032,\n",
       "  0.4808860123157501,\n",
       "  0.47966575622558594,\n",
       "  0.47978395223617554,\n",
       "  0.4774109125137329,\n",
       "  0.47896653413772583],\n",
       " 'val_accuracy': [0.6724137663841248,\n",
       "  0.6896551847457886,\n",
       "  0.75,\n",
       "  0.7844827771186829,\n",
       "  0.8103448152542114,\n",
       "  0.818965494632721,\n",
       "  0.818965494632721,\n",
       "  0.818965494632721,\n",
       "  0.818965494632721,\n",
       "  0.818965494632721,\n",
       "  0.8103448152542114,\n",
       "  0.818965494632721,\n",
       "  0.818965494632721]}"
      ]
     },
     "execution_count": 15,
     "metadata": {},
     "output_type": "execute_result"
    }
   ],
   "source": [
    "model.history"
   ]
  },
  {
   "cell_type": "code",
   "execution_count": 16,
   "id": "47f7e560",
   "metadata": {},
   "outputs": [
    {
     "data": {
      "text/plain": [
       "13"
      ]
     },
     "execution_count": 16,
     "metadata": {},
     "output_type": "execute_result"
    }
   ],
   "source": [
    "acc = model.history['accuracy']\n",
    "\n",
    "val_acc = model.history['val_accuracy']\n",
    "\n",
    "len(acc)"
   ]
  },
  {
   "cell_type": "code",
   "execution_count": 17,
   "id": "e4aa04e6",
   "metadata": {},
   "outputs": [],
   "source": [
    "Q = range(0,14,1)"
   ]
  },
  {
   "cell_type": "code",
   "execution_count": 18,
   "id": "902961f1",
   "metadata": {},
   "outputs": [
    {
     "data": {
      "text/plain": [
       "[<matplotlib.lines.Line2D at 0x210a448ac70>,\n",
       " <matplotlib.lines.Line2D at 0x210a448aca0>]"
      ]
     },
     "execution_count": 18,
     "metadata": {},
     "output_type": "execute_result"
    },
    {
     "data": {
      "image/png": "[encoded data removed]",
      "text/plain": [
       "<Figure size 432x288 with 1 Axes>"
      ]
     },
     "metadata": {
      "needs_background": "light"
     },
     "output_type": "display_data"
    }
   ],
   "source": [
    "import matplotlib.pyplot as plt\n",
    "plt.plot(range(0,14,1),Q,acc)\n",
    "plt.plot(range(0,14,1),Q,val_acc)"
   ]
  },
  {
   "cell_type": "markdown",
   "id": "1e6b8744",
   "metadata": {},
   "source": [
    "# Step 5:- Creating Testing Data ready for prediction"
   ]
  },
  {
   "cell_type": "code",
   "execution_count": 19,
   "id": "afa89910",
   "metadata": {},
   "outputs": [],
   "source": [
    "B = pd.read_csv(\"C:/Users/LENOVO/Desktop/ML/loan_pred/testing_set.csv\")\n",
    "replacer(B)"
   ]
  },
  {
   "cell_type": "code",
   "execution_count": 20,
   "id": "1a07eccf",
   "metadata": {},
   "outputs": [
    {
     "data": {
      "text/plain": [
       "Index(['ApplicantIncome', 'CoapplicantIncome', 'LoanAmount',\n",
       "       'Loan_Amount_Term', 'Credit_History', 'Gender_Female', 'Gender_Male',\n",
       "       'Married_No', 'Married_Yes', 'Dependents_0', 'Dependents_1',\n",
       "       'Dependents_2', 'Dependents_3+', 'Education_Graduate',\n",
       "       'Education_Not Graduate', 'Self_Employed_No', 'Self_Employed_Yes',\n",
       "       'Property_Area_Rural', 'Property_Area_Semiurban',\n",
       "       'Property_Area_Urban'],\n",
       "      dtype='object')"
      ]
     },
     "execution_count": 20,
     "metadata": {},
     "output_type": "execute_result"
    }
   ],
   "source": [
    "Xnew.columns"
   ]
  },
  {
   "cell_type": "code",
   "execution_count": 21,
   "id": "7c2c50e3",
   "metadata": {},
   "outputs": [],
   "source": [
    "xtest = B.drop(labels=[\"Loan_ID\"],axis=1)"
   ]
  },
  {
   "cell_type": "code",
   "execution_count": 22,
   "id": "50603d28",
   "metadata": {},
   "outputs": [],
   "source": [
    "xtest_new = preprocessing(xtest)"
   ]
  },
  {
   "cell_type": "code",
   "execution_count": 23,
   "id": "86d94599",
   "metadata": {},
   "outputs": [
    {
     "data": {
      "text/plain": [
       "20"
      ]
     },
     "execution_count": 23,
     "metadata": {},
     "output_type": "execute_result"
    }
   ],
   "source": [
    "len(xtest_new.columns)"
   ]
  },
  {
   "cell_type": "code",
   "execution_count": 24,
   "id": "3ef66ea5",
   "metadata": {},
   "outputs": [
    {
     "data": {
      "text/plain": [
       "20"
      ]
     },
     "execution_count": 24,
     "metadata": {},
     "output_type": "execute_result"
    }
   ],
   "source": [
    "len(Xnew.columns)"
   ]
  },
  {
   "cell_type": "markdown",
   "id": "e1a62d31",
   "metadata": {},
   "source": [
    "# Step 6:- Final_Output"
   ]
  },
  {
   "cell_type": "markdown",
   "id": "f829ff99",
   "metadata": {},
   "source": [
    "# Solution-1"
   ]
  },
  {
   "cell_type": "code",
   "execution_count": 25,
   "id": "7bc87627",
   "metadata": {},
   "outputs": [],
   "source": [
    "pred_prob = nn.predict(xtest_new)"
   ]
  },
  {
   "cell_type": "code",
   "execution_count": 26,
   "id": "7b0306fe",
   "metadata": {},
   "outputs": [],
   "source": [
    "Q = []\n",
    "for i in pred_prob:\n",
    "    if(i[0] > 0.5):\n",
    "        Q.append(\"Y\")\n",
    "    else:\n",
    "        Q.append(\"N\")"
   ]
  },
  {
   "cell_type": "code",
   "execution_count": 27,
   "id": "10e8ceac",
   "metadata": {},
   "outputs": [],
   "source": [
    "W = pd.DataFrame(B.Loan_ID)\n",
    "W['Loan_Status'] = Q"
   ]
  },
  {
   "cell_type": "code",
   "execution_count": 28,
   "id": "c5788608",
   "metadata": {},
   "outputs": [
    {
     "data": {
      "text/html": [
       "<div>\n",
       "<style scoped>\n",
       "    .dataframe tbody tr th:only-of-type {\n",
       "        vertical-align: middle;\n",
       "    }\n",
       "\n",
       "    .dataframe tbody tr th {\n",
       "        vertical-align: top;\n",
       "    }\n",
       "\n",
       "    .dataframe thead th {\n",
       "        text-align: right;\n",
       "    }\n",
       "</style>\n",
       "<table border=\"1\" class=\"dataframe\">\n",
       "  <thead>\n",
       "    <tr style=\"text-align: right;\">\n",
       "      <th></th>\n",
       "      <th>Loan_ID</th>\n",
       "      <th>Loan_Status</th>\n",
       "    </tr>\n",
       "  </thead>\n",
       "  <tbody>\n",
       "    <tr>\n",
       "      <th>0</th>\n",
       "      <td>LP001015</td>\n",
       "      <td>Y</td>\n",
       "    </tr>\n",
       "    <tr>\n",
       "      <th>1</th>\n",
       "      <td>LP001022</td>\n",
       "      <td>Y</td>\n",
       "    </tr>\n",
       "    <tr>\n",
       "      <th>2</th>\n",
       "      <td>LP001031</td>\n",
       "      <td>Y</td>\n",
       "    </tr>\n",
       "    <tr>\n",
       "      <th>3</th>\n",
       "      <td>LP001035</td>\n",
       "      <td>Y</td>\n",
       "    </tr>\n",
       "    <tr>\n",
       "      <th>4</th>\n",
       "      <td>LP001051</td>\n",
       "      <td>Y</td>\n",
       "    </tr>\n",
       "  </tbody>\n",
       "</table>\n",
       "</div>"
      ],
      "text/plain": [
       "    Loan_ID Loan_Status\n",
       "0  LP001015           Y\n",
       "1  LP001022           Y\n",
       "2  LP001031           Y\n",
       "3  LP001035           Y\n",
       "4  LP001051           Y"
      ]
     },
     "execution_count": 28,
     "metadata": {},
     "output_type": "execute_result"
    }
   ],
   "source": [
    "W.head()"
   ]
  },
  {
   "cell_type": "markdown",
   "id": "53e7d834",
   "metadata": {},
   "source": [
    "# Solution-2"
   ]
  },
  {
   "cell_type": "code",
   "execution_count": 29,
   "id": "73f22b7b",
   "metadata": {},
   "outputs": [
    {
     "name": "stdout",
     "output_type": "stream",
     "text": [
      "WARNING:tensorflow:From C:\\Users\\LENOVO\\AppData\\Local\\Temp\\ipykernel_10704\\10473781.py:2: Sequential.predict_classes (from tensorflow.python.keras.engine.sequential) is deprecated and will be removed after 2021-01-01.\n",
      "Instructions for updating:\n",
      "Please use instead:* `np.argmax(model.predict(x), axis=-1)`,   if your model does multi-class classification   (e.g. if it uses a `softmax` last-layer activation).* `(model.predict(x) > 0.5).astype(\"int32\")`,   if your model does binary classification   (e.g. if it uses a `sigmoid` last-layer activation).\n"
     ]
    }
   ],
   "source": [
    "Q = []\n",
    "for i in nn.predict_classes(xtest_new):\n",
    "    Q.append(i[0])"
   ]
  },
  {
   "cell_type": "code",
   "execution_count": 30,
   "id": "6d3d8314",
   "metadata": {},
   "outputs": [],
   "source": [
    "pred = le.inverse_transform(Q)\n",
    "W = pd.DataFrame(B.Loan_ID)\n",
    "W['Loan_Status'] = pred"
   ]
  },
  {
   "cell_type": "code",
   "execution_count": 31,
   "id": "cf6fedee",
   "metadata": {},
   "outputs": [
    {
     "data": {
      "text/html": [
       "<div>\n",
       "<style scoped>\n",
       "    .dataframe tbody tr th:only-of-type {\n",
       "        vertical-align: middle;\n",
       "    }\n",
       "\n",
       "    .dataframe tbody tr th {\n",
       "        vertical-align: top;\n",
       "    }\n",
       "\n",
       "    .dataframe thead th {\n",
       "        text-align: right;\n",
       "    }\n",
       "</style>\n",
       "<table border=\"1\" class=\"dataframe\">\n",
       "  <thead>\n",
       "    <tr style=\"text-align: right;\">\n",
       "      <th></th>\n",
       "      <th>Loan_ID</th>\n",
       "      <th>Loan_Status</th>\n",
       "    </tr>\n",
       "  </thead>\n",
       "  <tbody>\n",
       "    <tr>\n",
       "      <th>0</th>\n",
       "      <td>LP001015</td>\n",
       "      <td>Y</td>\n",
       "    </tr>\n",
       "    <tr>\n",
       "      <th>1</th>\n",
       "      <td>LP001022</td>\n",
       "      <td>Y</td>\n",
       "    </tr>\n",
       "    <tr>\n",
       "      <th>2</th>\n",
       "      <td>LP001031</td>\n",
       "      <td>Y</td>\n",
       "    </tr>\n",
       "    <tr>\n",
       "      <th>3</th>\n",
       "      <td>LP001035</td>\n",
       "      <td>Y</td>\n",
       "    </tr>\n",
       "    <tr>\n",
       "      <th>4</th>\n",
       "      <td>LP001051</td>\n",
       "      <td>Y</td>\n",
       "    </tr>\n",
       "  </tbody>\n",
       "</table>\n",
       "</div>"
      ],
      "text/plain": [
       "    Loan_ID Loan_Status\n",
       "0  LP001015           Y\n",
       "1  LP001022           Y\n",
       "2  LP001031           Y\n",
       "3  LP001035           Y\n",
       "4  LP001051           Y"
      ]
     },
     "execution_count": 31,
     "metadata": {},
     "output_type": "execute_result"
    }
   ],
   "source": [
    "W.head()"
   ]
  },
  {
   "cell_type": "code",
   "execution_count": 32,
   "id": "0ce2c94a",
   "metadata": {},
   "outputs": [],
   "source": [
    "W = pd.DataFrame([B.Loan_ID,pred]).T\n",
    "W.columns = [\"Loan_ID\",\"Loan_Status\"]"
   ]
  },
  {
   "cell_type": "code",
   "execution_count": 33,
   "id": "10d09cf2",
   "metadata": {},
   "outputs": [],
   "source": [
    "W.to_csv(\"C:/Users/LENOVO/Desktop/loan_pred_dl_submission.csv\")"
   ]
  },
  {
   "cell_type": "markdown",
   "id": "130d50ab",
   "metadata": {},
   "source": [
    "# Conclusion :- \n",
    "The Loan approval has sucessfully been predicted using DeepLearning and the output result to on basis of Loan_ID,Loan_Status submitted to loan_pred_dl_submission.csv"
   ]
  },
  {
   "cell_type": "markdown",
   "id": "0ce286c5",
   "metadata": {},
   "source": [
    "# ---------------------------------------------------------------------------------------------------------------"
   ]
  }
 ],
 "metadata": {
  "kernelspec": {
   "display_name": "Python 3 (ipykernel)",
   "language": "python",
   "name": "python3"
  },
  "language_info": {
   "codemirror_mode": {
    "name": "ipython",
    "version": 3
   },
   "file_extension": ".py",
   "mimetype": "text/x-python",
   "name": "python",
   "nbconvert_exporter": "python",
   "pygments_lexer": "ipython3",
   "version": "3.8.13"
  }
 },
 "nbformat": 4,
 "nbformat_minor": 5
}
